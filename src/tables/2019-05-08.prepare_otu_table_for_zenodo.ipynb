{
 "cells": [
  {
   "cell_type": "markdown",
   "metadata": {},
   "source": [
    "This notebook subsamples the OTU table to upload to Zenodo."
   ]
  },
  {
   "cell_type": "code",
   "execution_count": 2,
   "metadata": {},
   "outputs": [],
   "source": [
    "import pandas as pd\n",
    "import os"
   ]
  },
  {
   "cell_type": "code",
   "execution_count": 3,
   "metadata": {},
   "outputs": [
    {
     "data": {
      "text/plain": [
       "u'/Users/claire/github/aspiration-analysis/src/tables'"
      ]
     },
     "execution_count": 3,
     "metadata": {},
     "output_type": "execute_result"
    }
   ],
   "source": [
    "pwd"
   ]
  },
  {
   "cell_type": "code",
   "execution_count": 4,
   "metadata": {},
   "outputs": [
    {
     "name": "stdout",
     "output_type": "stream",
     "text": [
      "(4618, 446)\n"
     ]
    }
   ],
   "source": [
    "# This cell is copied from 2018-03-12.upload_data.ipynb\n",
    "\n",
    "dirsamples = '../../data/patients/'\n",
    "files = os.listdir(dirsamples)\n",
    "\n",
    "files = [f for f in files if f.endswith('.samples.txt')]\n",
    "files = [dirsamples + f for f in files]\n",
    "\n",
    "# Read in all the samples \n",
    "allsamples = []\n",
    "for fname in files:\n",
    "#    path = os.path.join('../../final/patients/', fname)\n",
    "    path = fname\n",
    "    with open(path, 'r') as fh:\n",
    "        lines = fh.readlines()\n",
    "        #print(fname, len(lines))\n",
    "        samples = [l.strip() for l in lines]\n",
    "        allsamples += samples\n",
    "print(len(allsamples), len(set(allsamples)))"
   ]
  },
  {
   "cell_type": "code",
   "execution_count": 5,
   "metadata": {},
   "outputs": [],
   "source": [
    "allsamples = list(set(allsamples))"
   ]
  },
  {
   "cell_type": "code",
   "execution_count": 9,
   "metadata": {},
   "outputs": [],
   "source": [
    "# Read in raw OTU table and subsample\n",
    "fotu = '../../data/raw/rosen_mincount10_maxee2_trim200_results/RDP/rosen_mincount10_maxee2_trim200.otu_table.99.denovo.rdp_assigned'\n",
    "otu = pd.read_csv(fotu, sep='\\t', index_col=0)"
   ]
  },
  {
   "cell_type": "code",
   "execution_count": 10,
   "metadata": {},
   "outputs": [
    {
     "name": "stderr",
     "output_type": "stream",
     "text": [
      "/Users/claire/anaconda/envs/aspiration/lib/python2.7/site-packages/pandas/core/indexing.py:1472: FutureWarning: \n",
      "Passing list-likes to .loc or [] with any missing label will raise\n",
      "KeyError in the future, you can use .reindex() as an alternative.\n",
      "\n",
      "See the documentation here:\n",
      "https://pandas.pydata.org/pandas-docs/stable/indexing.html#deprecate-loc-reindex-listlike\n",
      "  return self._getitem_tuple(key)\n"
     ]
    },
    {
     "data": {
      "text/plain": [
       "((4208, 632), (4208, 446))"
      ]
     },
     "execution_count": 10,
     "metadata": {},
     "output_type": "execute_result"
    }
   ],
   "source": [
    "otu.shape, otu.loc[:, allsamples].shape"
   ]
  },
  {
   "cell_type": "code",
   "execution_count": 14,
   "metadata": {},
   "outputs": [
    {
     "data": {
      "text/plain": [
       "(446, 4208)"
      ]
     },
     "execution_count": 14,
     "metadata": {},
     "output_type": "execute_result"
    }
   ],
   "source": [
    "# Subsample and transpose so OTUs are in columns\n",
    "subotu = otu.loc[:, allsamples].T\n",
    "subotu.shape"
   ]
  },
  {
   "cell_type": "code",
   "execution_count": 16,
   "metadata": {},
   "outputs": [
    {
     "data": {
      "text/plain": [
       "202"
      ]
     },
     "execution_count": 16,
     "metadata": {},
     "output_type": "execute_result"
    }
   ],
   "source": [
    "# Check how many OTUs are all zero\n",
    "sum(subotu.sum() == 0)"
   ]
  },
  {
   "cell_type": "code",
   "execution_count": 26,
   "metadata": {},
   "outputs": [],
   "source": [
    "# Remove those OTUs\n",
    "subotu = subotu.loc[:, subotu.sum() > 0]"
   ]
  },
  {
   "cell_type": "code",
   "execution_count": 27,
   "metadata": {},
   "outputs": [
    {
     "data": {
      "text/html": [
       "<div>\n",
       "<style scoped>\n",
       "    .dataframe tbody tr th:only-of-type {\n",
       "        vertical-align: middle;\n",
       "    }\n",
       "\n",
       "    .dataframe tbody tr th {\n",
       "        vertical-align: top;\n",
       "    }\n",
       "\n",
       "    .dataframe thead th {\n",
       "        text-align: right;\n",
       "    }\n",
       "</style>\n",
       "<table border=\"1\" class=\"dataframe\">\n",
       "  <thead>\n",
       "    <tr style=\"text-align: right;\">\n",
       "      <th></th>\n",
       "      <th>k__Bacteria;p__Firmicutes;c__Negativicutes;o__Selenomonadales;f__Acidaminococcaceae;g__Phascolarctobacterium;s__;d__denovo58</th>\n",
       "      <th>k__Bacteria;p__Firmicutes;c__Clostridia;o__Clostridiales;f__Clostridiales_Incertae_Sedis_XIII;g__Anaerovorax;s__;d__denovo1106</th>\n",
       "      <th>k__Bacteria;p__Fusobacteria;c__Fusobacteriia;o__Fusobacteriales;f__Fusobacteriaceae;g__Fusobacterium;s__;d__denovo3059</th>\n",
       "      <th>k__Bacteria;p__Firmicutes;c__Clostridia;o__Clostridiales;f__Ruminococcaceae;g__Clostridium_IV;s__;d__denovo4016</th>\n",
       "      <th>k__Bacteria;p__Firmicutes;c__Bacilli;o__Bacillales;f__;g__;s__;d__denovo4017</th>\n",
       "      <th>k__Bacteria;p__Firmicutes;c__Bacilli;o__Lactobacillales;f__Streptococcaceae;g__Streptococcus;s__;d__denovo4010</th>\n",
       "      <th>k__Bacteria;p__Firmicutes;c__Clostridia;o__Clostridiales;f__Ruminococcaceae;g__Faecalibacterium;s__;d__denovo4011</th>\n",
       "      <th>k__Bacteria;p__Bacteroidetes;c__Bacteroidia;o__Bacteroidales;f__Porphyromonadaceae;g__Tannerella;s__;d__denovo4012</th>\n",
       "      <th>k__Bacteria;p__Firmicutes;c__Clostridia;o__Clostridiales;f__Lachnospiraceae;g__Ruminococcus2;s__;d__denovo57</th>\n",
       "      <th>k__Bacteria;p__Bacteroidetes;c__Bacteroidia;o__Bacteroidales;f__Porphyromonadaceae;g__Porphyromonas;s__;d__denovo3051</th>\n",
       "      <th>...</th>\n",
       "      <th>k__Bacteria;p__Bacteroidetes;c__Bacteroidia;o__Bacteroidales;f__Bacteroidaceae;g__Bacteroides;s__;d__denovo2434</th>\n",
       "      <th>k__Bacteria;p__Firmicutes;c__Erysipelotrichia;o__Erysipelotrichales;f__Erysipelotrichaceae;g__Erysipelothrix;s__;d__denovo2435</th>\n",
       "      <th>k__Bacteria;p__Bacteroidetes;c__Bacteroidia;o__Bacteroidales;f__Prevotellaceae;g__Prevotella;s__;d__denovo2436</th>\n",
       "      <th>k__Bacteria;p__Firmicutes;c__Clostridia;o__Clostridiales;f__Ruminococcaceae;g__;s__;d__denovo2437</th>\n",
       "      <th>k__Bacteria;p__Bacteroidetes;c__Bacteroidia;o__Bacteroidales;f__;g__;s__;d__denovo2430</th>\n",
       "      <th>k__Bacteria;p__Firmicutes;c__Clostridia;o__Clostridiales;f__Ruminococcaceae;g__;s__;d__denovo2431</th>\n",
       "      <th>k__Bacteria;p__Proteobacteria;c__Gammaproteobacteria;o__Pasteurellales;f__Pasteurellaceae;g__Haemophilus;s__;d__denovo2432</th>\n",
       "      <th>k__Bacteria;p__Proteobacteria;c__Betaproteobacteria;o__Burkholderiales;f__Oxalobacteraceae;g__;s__;d__denovo2433</th>\n",
       "      <th>k__Bacteria;p__Firmicutes;c__Clostridia;o__Clostridiales;f__Lachnospiraceae;g__Lachnospiracea_incertae_sedis;s__;d__denovo2018</th>\n",
       "      <th>k__Bacteria;p__Actinobacteria;c__Actinobacteria;o__Actinomycetales;f__Corynebacteriaceae;g__Corynebacterium;s__;d__denovo3436</th>\n",
       "    </tr>\n",
       "  </thead>\n",
       "  <tbody>\n",
       "    <tr>\n",
       "      <th>04-074-1T</th>\n",
       "      <td>0.0</td>\n",
       "      <td>0.0</td>\n",
       "      <td>0.0</td>\n",
       "      <td>0.0</td>\n",
       "      <td>0.0</td>\n",
       "      <td>0.0</td>\n",
       "      <td>0.0</td>\n",
       "      <td>0.0</td>\n",
       "      <td>0.0</td>\n",
       "      <td>0.0</td>\n",
       "      <td>...</td>\n",
       "      <td>0.0</td>\n",
       "      <td>0.0</td>\n",
       "      <td>0.0</td>\n",
       "      <td>0.0</td>\n",
       "      <td>0.0</td>\n",
       "      <td>0.0</td>\n",
       "      <td>0.0</td>\n",
       "      <td>0.0</td>\n",
       "      <td>0.0</td>\n",
       "      <td>0.0</td>\n",
       "    </tr>\n",
       "    <tr>\n",
       "      <th>02-164-1G</th>\n",
       "      <td>0.0</td>\n",
       "      <td>0.0</td>\n",
       "      <td>0.0</td>\n",
       "      <td>0.0</td>\n",
       "      <td>0.0</td>\n",
       "      <td>0.0</td>\n",
       "      <td>0.0</td>\n",
       "      <td>0.0</td>\n",
       "      <td>0.0</td>\n",
       "      <td>0.0</td>\n",
       "      <td>...</td>\n",
       "      <td>0.0</td>\n",
       "      <td>0.0</td>\n",
       "      <td>0.0</td>\n",
       "      <td>0.0</td>\n",
       "      <td>0.0</td>\n",
       "      <td>0.0</td>\n",
       "      <td>0.0</td>\n",
       "      <td>0.0</td>\n",
       "      <td>0.0</td>\n",
       "      <td>0.0</td>\n",
       "    </tr>\n",
       "    <tr>\n",
       "      <th>04-262-5T</th>\n",
       "      <td>1.0</td>\n",
       "      <td>0.0</td>\n",
       "      <td>0.0</td>\n",
       "      <td>0.0</td>\n",
       "      <td>0.0</td>\n",
       "      <td>0.0</td>\n",
       "      <td>0.0</td>\n",
       "      <td>0.0</td>\n",
       "      <td>0.0</td>\n",
       "      <td>0.0</td>\n",
       "      <td>...</td>\n",
       "      <td>0.0</td>\n",
       "      <td>0.0</td>\n",
       "      <td>0.0</td>\n",
       "      <td>0.0</td>\n",
       "      <td>0.0</td>\n",
       "      <td>0.0</td>\n",
       "      <td>0.0</td>\n",
       "      <td>0.0</td>\n",
       "      <td>0.0</td>\n",
       "      <td>0.0</td>\n",
       "    </tr>\n",
       "    <tr>\n",
       "      <th>04-074-1G</th>\n",
       "      <td>0.0</td>\n",
       "      <td>0.0</td>\n",
       "      <td>0.0</td>\n",
       "      <td>0.0</td>\n",
       "      <td>0.0</td>\n",
       "      <td>0.0</td>\n",
       "      <td>0.0</td>\n",
       "      <td>0.0</td>\n",
       "      <td>0.0</td>\n",
       "      <td>0.0</td>\n",
       "      <td>...</td>\n",
       "      <td>0.0</td>\n",
       "      <td>0.0</td>\n",
       "      <td>0.0</td>\n",
       "      <td>0.0</td>\n",
       "      <td>0.0</td>\n",
       "      <td>0.0</td>\n",
       "      <td>0.0</td>\n",
       "      <td>0.0</td>\n",
       "      <td>0.0</td>\n",
       "      <td>0.0</td>\n",
       "    </tr>\n",
       "    <tr>\n",
       "      <th>04-074-1B</th>\n",
       "      <td>0.0</td>\n",
       "      <td>0.0</td>\n",
       "      <td>0.0</td>\n",
       "      <td>0.0</td>\n",
       "      <td>0.0</td>\n",
       "      <td>0.0</td>\n",
       "      <td>0.0</td>\n",
       "      <td>0.0</td>\n",
       "      <td>0.0</td>\n",
       "      <td>0.0</td>\n",
       "      <td>...</td>\n",
       "      <td>0.0</td>\n",
       "      <td>0.0</td>\n",
       "      <td>0.0</td>\n",
       "      <td>0.0</td>\n",
       "      <td>0.0</td>\n",
       "      <td>0.0</td>\n",
       "      <td>0.0</td>\n",
       "      <td>0.0</td>\n",
       "      <td>0.0</td>\n",
       "      <td>0.0</td>\n",
       "    </tr>\n",
       "  </tbody>\n",
       "</table>\n",
       "<p>5 rows × 4006 columns</p>\n",
       "</div>"
      ],
      "text/plain": [
       "           k__Bacteria;p__Firmicutes;c__Negativicutes;o__Selenomonadales;f__Acidaminococcaceae;g__Phascolarctobacterium;s__;d__denovo58  \\\n",
       "04-074-1T                                                0.0                                                                              \n",
       "02-164-1G                                                0.0                                                                              \n",
       "04-262-5T                                                1.0                                                                              \n",
       "04-074-1G                                                0.0                                                                              \n",
       "04-074-1B                                                0.0                                                                              \n",
       "\n",
       "           k__Bacteria;p__Firmicutes;c__Clostridia;o__Clostridiales;f__Clostridiales_Incertae_Sedis_XIII;g__Anaerovorax;s__;d__denovo1106  \\\n",
       "04-074-1T                                                0.0                                                                                \n",
       "02-164-1G                                                0.0                                                                                \n",
       "04-262-5T                                                0.0                                                                                \n",
       "04-074-1G                                                0.0                                                                                \n",
       "04-074-1B                                                0.0                                                                                \n",
       "\n",
       "           k__Bacteria;p__Fusobacteria;c__Fusobacteriia;o__Fusobacteriales;f__Fusobacteriaceae;g__Fusobacterium;s__;d__denovo3059  \\\n",
       "04-074-1T                                                0.0                                                                        \n",
       "02-164-1G                                                0.0                                                                        \n",
       "04-262-5T                                                0.0                                                                        \n",
       "04-074-1G                                                0.0                                                                        \n",
       "04-074-1B                                                0.0                                                                        \n",
       "\n",
       "           k__Bacteria;p__Firmicutes;c__Clostridia;o__Clostridiales;f__Ruminococcaceae;g__Clostridium_IV;s__;d__denovo4016  \\\n",
       "04-074-1T                                                0.0                                                                 \n",
       "02-164-1G                                                0.0                                                                 \n",
       "04-262-5T                                                0.0                                                                 \n",
       "04-074-1G                                                0.0                                                                 \n",
       "04-074-1B                                                0.0                                                                 \n",
       "\n",
       "           k__Bacteria;p__Firmicutes;c__Bacilli;o__Bacillales;f__;g__;s__;d__denovo4017  \\\n",
       "04-074-1T                                                0.0                              \n",
       "02-164-1G                                                0.0                              \n",
       "04-262-5T                                                0.0                              \n",
       "04-074-1G                                                0.0                              \n",
       "04-074-1B                                                0.0                              \n",
       "\n",
       "           k__Bacteria;p__Firmicutes;c__Bacilli;o__Lactobacillales;f__Streptococcaceae;g__Streptococcus;s__;d__denovo4010  \\\n",
       "04-074-1T                                                0.0                                                                \n",
       "02-164-1G                                                0.0                                                                \n",
       "04-262-5T                                                0.0                                                                \n",
       "04-074-1G                                                0.0                                                                \n",
       "04-074-1B                                                0.0                                                                \n",
       "\n",
       "           k__Bacteria;p__Firmicutes;c__Clostridia;o__Clostridiales;f__Ruminococcaceae;g__Faecalibacterium;s__;d__denovo4011  \\\n",
       "04-074-1T                                                0.0                                                                   \n",
       "02-164-1G                                                0.0                                                                   \n",
       "04-262-5T                                                0.0                                                                   \n",
       "04-074-1G                                                0.0                                                                   \n",
       "04-074-1B                                                0.0                                                                   \n",
       "\n",
       "           k__Bacteria;p__Bacteroidetes;c__Bacteroidia;o__Bacteroidales;f__Porphyromonadaceae;g__Tannerella;s__;d__denovo4012  \\\n",
       "04-074-1T                                                0.0                                                                    \n",
       "02-164-1G                                                0.0                                                                    \n",
       "04-262-5T                                                0.0                                                                    \n",
       "04-074-1G                                                0.0                                                                    \n",
       "04-074-1B                                                0.0                                                                    \n",
       "\n",
       "           k__Bacteria;p__Firmicutes;c__Clostridia;o__Clostridiales;f__Lachnospiraceae;g__Ruminococcus2;s__;d__denovo57  \\\n",
       "04-074-1T                                                0.0                                                              \n",
       "02-164-1G                                                0.0                                                              \n",
       "04-262-5T                                                0.0                                                              \n",
       "04-074-1G                                                0.0                                                              \n",
       "04-074-1B                                                0.0                                                              \n",
       "\n",
       "           k__Bacteria;p__Bacteroidetes;c__Bacteroidia;o__Bacteroidales;f__Porphyromonadaceae;g__Porphyromonas;s__;d__denovo3051  \\\n",
       "04-074-1T                                                0.0                                                                       \n",
       "02-164-1G                                                0.0                                                                       \n",
       "04-262-5T                                                0.0                                                                       \n",
       "04-074-1G                                                0.0                                                                       \n",
       "04-074-1B                                                0.0                                                                       \n",
       "\n",
       "                                                                       ...                                                                \\\n",
       "04-074-1T                                                              ...                                                                 \n",
       "02-164-1G                                                              ...                                                                 \n",
       "04-262-5T                                                              ...                                                                 \n",
       "04-074-1G                                                              ...                                                                 \n",
       "04-074-1B                                                              ...                                                                 \n",
       "\n",
       "           k__Bacteria;p__Bacteroidetes;c__Bacteroidia;o__Bacteroidales;f__Bacteroidaceae;g__Bacteroides;s__;d__denovo2434  \\\n",
       "04-074-1T                                                0.0                                                                 \n",
       "02-164-1G                                                0.0                                                                 \n",
       "04-262-5T                                                0.0                                                                 \n",
       "04-074-1G                                                0.0                                                                 \n",
       "04-074-1B                                                0.0                                                                 \n",
       "\n",
       "           k__Bacteria;p__Firmicutes;c__Erysipelotrichia;o__Erysipelotrichales;f__Erysipelotrichaceae;g__Erysipelothrix;s__;d__denovo2435  \\\n",
       "04-074-1T                                                0.0                                                                                \n",
       "02-164-1G                                                0.0                                                                                \n",
       "04-262-5T                                                0.0                                                                                \n",
       "04-074-1G                                                0.0                                                                                \n",
       "04-074-1B                                                0.0                                                                                \n",
       "\n",
       "           k__Bacteria;p__Bacteroidetes;c__Bacteroidia;o__Bacteroidales;f__Prevotellaceae;g__Prevotella;s__;d__denovo2436  \\\n",
       "04-074-1T                                                0.0                                                                \n",
       "02-164-1G                                                0.0                                                                \n",
       "04-262-5T                                                0.0                                                                \n",
       "04-074-1G                                                0.0                                                                \n",
       "04-074-1B                                                0.0                                                                \n",
       "\n",
       "           k__Bacteria;p__Firmicutes;c__Clostridia;o__Clostridiales;f__Ruminococcaceae;g__;s__;d__denovo2437  \\\n",
       "04-074-1T                                                0.0                                                   \n",
       "02-164-1G                                                0.0                                                   \n",
       "04-262-5T                                                0.0                                                   \n",
       "04-074-1G                                                0.0                                                   \n",
       "04-074-1B                                                0.0                                                   \n",
       "\n",
       "           k__Bacteria;p__Bacteroidetes;c__Bacteroidia;o__Bacteroidales;f__;g__;s__;d__denovo2430  \\\n",
       "04-074-1T                                                0.0                                        \n",
       "02-164-1G                                                0.0                                        \n",
       "04-262-5T                                                0.0                                        \n",
       "04-074-1G                                                0.0                                        \n",
       "04-074-1B                                                0.0                                        \n",
       "\n",
       "           k__Bacteria;p__Firmicutes;c__Clostridia;o__Clostridiales;f__Ruminococcaceae;g__;s__;d__denovo2431  \\\n",
       "04-074-1T                                                0.0                                                   \n",
       "02-164-1G                                                0.0                                                   \n",
       "04-262-5T                                                0.0                                                   \n",
       "04-074-1G                                                0.0                                                   \n",
       "04-074-1B                                                0.0                                                   \n",
       "\n",
       "           k__Bacteria;p__Proteobacteria;c__Gammaproteobacteria;o__Pasteurellales;f__Pasteurellaceae;g__Haemophilus;s__;d__denovo2432  \\\n",
       "04-074-1T                                                0.0                                                                            \n",
       "02-164-1G                                                0.0                                                                            \n",
       "04-262-5T                                                0.0                                                                            \n",
       "04-074-1G                                                0.0                                                                            \n",
       "04-074-1B                                                0.0                                                                            \n",
       "\n",
       "           k__Bacteria;p__Proteobacteria;c__Betaproteobacteria;o__Burkholderiales;f__Oxalobacteraceae;g__;s__;d__denovo2433  \\\n",
       "04-074-1T                                                0.0                                                                  \n",
       "02-164-1G                                                0.0                                                                  \n",
       "04-262-5T                                                0.0                                                                  \n",
       "04-074-1G                                                0.0                                                                  \n",
       "04-074-1B                                                0.0                                                                  \n",
       "\n",
       "           k__Bacteria;p__Firmicutes;c__Clostridia;o__Clostridiales;f__Lachnospiraceae;g__Lachnospiracea_incertae_sedis;s__;d__denovo2018  \\\n",
       "04-074-1T                                                0.0                                                                                \n",
       "02-164-1G                                                0.0                                                                                \n",
       "04-262-5T                                                0.0                                                                                \n",
       "04-074-1G                                                0.0                                                                                \n",
       "04-074-1B                                                0.0                                                                                \n",
       "\n",
       "           k__Bacteria;p__Actinobacteria;c__Actinobacteria;o__Actinomycetales;f__Corynebacteriaceae;g__Corynebacterium;s__;d__denovo3436  \n",
       "04-074-1T                                                0.0                                                                              \n",
       "02-164-1G                                                0.0                                                                              \n",
       "04-262-5T                                                0.0                                                                              \n",
       "04-074-1G                                                0.0                                                                              \n",
       "04-074-1B                                                0.0                                                                              \n",
       "\n",
       "[5 rows x 4006 columns]"
      ]
     },
     "execution_count": 27,
     "metadata": {},
     "output_type": "execute_result"
    }
   ],
   "source": [
    "subotu.head()"
   ]
  },
  {
   "cell_type": "code",
   "execution_count": 28,
   "metadata": {},
   "outputs": [],
   "source": [
    "fotu_subsample = '../../data/raw/rosen_mincount10_maxee2_trim200_results/rosen_mincount10_maxee2_trim200_results_forpaper/rosen_mincount10_maxee2_trim200.otu_table.99.denovo.rdp_assigned.paper_samples.txt'\n",
    "subotu.to_csv(fotu_subsample, sep='\\t')"
   ]
  },
  {
   "cell_type": "code",
   "execution_count": null,
   "metadata": {},
   "outputs": [],
   "source": []
  }
 ],
 "metadata": {
  "anaconda-cloud": {},
  "kernelspec": {
   "display_name": "Python (aspiration)",
   "language": "python",
   "name": "aspiration"
  },
  "language_info": {
   "codemirror_mode": {
    "name": "ipython",
    "version": 2
   },
   "file_extension": ".py",
   "mimetype": "text/x-python",
   "name": "python",
   "nbconvert_exporter": "python",
   "pygments_lexer": "ipython2",
   "version": "2.7.15"
  }
 },
 "nbformat": 4,
 "nbformat_minor": 2
}
