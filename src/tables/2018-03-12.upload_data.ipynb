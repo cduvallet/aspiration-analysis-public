{
 "cells": [
  {
   "cell_type": "markdown",
   "metadata": {},
   "source": [
    "This notebook prepares some files to upload data to SRA\n",
    "\n",
    "More documentation:\n",
    "\n",
    "https://www.ncbi.nlm.nih.gov/sra/docs/submitportal/\n",
    "\n",
    "https://www.ncbi.nlm.nih.gov/sra/docs/submitfiles/"
   ]
  },
  {
   "cell_type": "code",
   "execution_count": 1,
   "metadata": {},
   "outputs": [],
   "source": [
    "import pandas as pd\n",
    "import numpy as np\n",
    "import os"
   ]
  },
  {
   "cell_type": "markdown",
   "metadata": {},
   "source": [
    "First, let's grab all the samples we'll need to upload data for."
   ]
  },
  {
   "cell_type": "code",
   "execution_count": 2,
   "metadata": {},
   "outputs": [
    {
     "data": {
      "text/html": [
       "<div>\n",
       "<style scoped>\n",
       "    .dataframe tbody tr th:only-of-type {\n",
       "        vertical-align: middle;\n",
       "    }\n",
       "\n",
       "    .dataframe tbody tr th {\n",
       "        vertical-align: top;\n",
       "    }\n",
       "\n",
       "    .dataframe thead th {\n",
       "        text-align: right;\n",
       "    }\n",
       "</style>\n",
       "<table border=\"1\" class=\"dataframe\">\n",
       "  <thead>\n",
       "    <tr style=\"text-align: right;\">\n",
       "      <th></th>\n",
       "      <th>bal</th>\n",
       "      <th>gastric_fluid</th>\n",
       "      <th>throat_swab</th>\n",
       "      <th>stool</th>\n",
       "    </tr>\n",
       "  </thead>\n",
       "  <tbody>\n",
       "    <tr>\n",
       "      <th>04-080-7</th>\n",
       "      <td>True</td>\n",
       "      <td>True</td>\n",
       "      <td>True</td>\n",
       "      <td>False</td>\n",
       "    </tr>\n",
       "    <tr>\n",
       "      <th>01-299-7</th>\n",
       "      <td>False</td>\n",
       "      <td>False</td>\n",
       "      <td>True</td>\n",
       "      <td>False</td>\n",
       "    </tr>\n",
       "    <tr>\n",
       "      <th>04-167-8</th>\n",
       "      <td>False</td>\n",
       "      <td>True</td>\n",
       "      <td>False</td>\n",
       "      <td>False</td>\n",
       "    </tr>\n",
       "    <tr>\n",
       "      <th>04-087-1</th>\n",
       "      <td>True</td>\n",
       "      <td>True</td>\n",
       "      <td>True</td>\n",
       "      <td>False</td>\n",
       "    </tr>\n",
       "    <tr>\n",
       "      <th>042-6-F1</th>\n",
       "      <td>False</td>\n",
       "      <td>False</td>\n",
       "      <td>True</td>\n",
       "      <td>False</td>\n",
       "    </tr>\n",
       "  </tbody>\n",
       "</table>\n",
       "</div>"
      ],
      "text/plain": [
       "            bal  gastric_fluid  throat_swab  stool\n",
       "04-080-7   True           True         True  False\n",
       "01-299-7  False          False         True  False\n",
       "04-167-8  False           True        False  False\n",
       "04-087-1   True           True         True  False\n",
       "042-6-F1  False          False         True  False"
      ]
     },
     "execution_count": 2,
     "metadata": {},
     "output_type": "execute_result"
    }
   ],
   "source": [
    "fsamples = '../../final/supp_files/patients_with_sites_sampled.csv'\n",
    "df = pd.read_csv(fsamples, index_col=0)\n",
    "df.head()"
   ]
  },
  {
   "cell_type": "code",
   "execution_count": 3,
   "metadata": {},
   "outputs": [],
   "source": [
    "allsubjects = df.index.tolist()"
   ]
  },
  {
   "cell_type": "code",
   "execution_count": 4,
   "metadata": {},
   "outputs": [],
   "source": [
    "dirsamples = '../../data/patients/'\n",
    "files = os.listdir(dirsamples)\n",
    "\n",
    "files = [f for f in files if f.endswith('.samples.txt')]\n",
    "files = [dirsamples + f for f in files]\n",
    "\n",
    "#dirsamples = '../../final/patients/'\n",
    "#files = os.listdir(dirsamples)\n",
    "#files = [f for f in files if 'samples' in f]\n",
    "#files"
   ]
  },
  {
   "cell_type": "code",
   "execution_count": 5,
   "metadata": {},
   "outputs": [],
   "source": [
    "# Read in all the samples \n",
    "allsamples = []\n",
    "for fname in files:\n",
    "#    path = os.path.join('../../final/patients/', fname)\n",
    "    path = fname\n",
    "    with open(path, 'r') as fh:\n",
    "        lines = fh.readlines()\n",
    "        #print(fname, len(lines))\n",
    "        samples = [l.strip() for l in lines]\n",
    "        allsamples += samples"
   ]
  },
  {
   "cell_type": "code",
   "execution_count": 6,
   "metadata": {},
   "outputs": [
    {
     "data": {
      "text/plain": [
       "(4618, 446)"
      ]
     },
     "execution_count": 6,
     "metadata": {},
     "output_type": "execute_result"
    }
   ],
   "source": [
    "## How many total/unique samples are in these figures?\n",
    "len(allsamples), len(set(allsamples))"
   ]
  },
  {
   "cell_type": "code",
   "execution_count": 11,
   "metadata": {},
   "outputs": [
    {
     "data": {
      "text/plain": [
       "446"
      ]
     },
     "execution_count": 11,
     "metadata": {},
     "output_type": "execute_result"
    }
   ],
   "source": [
    "# Check that they match\n",
    "allsamples_from_pts = []\n",
    "allsamples_from_pts += (df.query('bal == True').index + 'B').tolist()\n",
    "allsamples_from_pts += (df.query('gastric_fluid == True').index + 'G').tolist()\n",
    "allsamples_from_pts += (df.query('throat_swab == True').index + 'T').tolist()\n",
    "allsamples_from_pts += (df.query('stool == True').index + 'S').tolist()\n",
    "len(allsamples_from_pts)"
   ]
  },
  {
   "cell_type": "code",
   "execution_count": 14,
   "metadata": {},
   "outputs": [
    {
     "name": "stdout",
     "output_type": "stream",
     "text": [
      "73\n",
      "73\n"
     ]
    }
   ],
   "source": [
    "print(len([i for i in set(allsamples) if i not in allsamples_from_pts]))\n",
    "print(len([i for i in allsamples_from_pts if i not in set(allsamples)]))"
   ]
  },
  {
   "cell_type": "code",
   "execution_count": 20,
   "metadata": {},
   "outputs": [
    {
     "data": {
      "text/plain": [
       "['01-112-7GI',\n",
       " '03-055-1SI',\n",
       " '03-105-8SI',\n",
       " '03-138-9SI',\n",
       " '03-156-7TI',\n",
       " '03-272-3SI',\n",
       " '043-7-F1',\n",
       " '55-1-TI']"
      ]
     },
     "execution_count": 20,
     "metadata": {},
     "output_type": "execute_result"
    }
   ],
   "source": [
    "sorted([i for i in set(allsamples) if i not in allsamples_from_pts])[::10]"
   ]
  },
  {
   "cell_type": "code",
   "execution_count": 21,
   "metadata": {},
   "outputs": [
    {
     "data": {
      "text/plain": [
       "['01-112-7G',\n",
       " '03-055-1S',\n",
       " '03-105-8S',\n",
       " '03-138-9S',\n",
       " '03-156-7T',\n",
       " '03-272-3S',\n",
       " '043-7-F1T',\n",
       " '13-058-2T']"
      ]
     },
     "execution_count": 21,
     "metadata": {},
     "output_type": "execute_result"
    }
   ],
   "source": [
    "sorted([i for i in allsamples_from_pts if i not in set(allsamples)])[::10]"
   ]
  },
  {
   "cell_type": "markdown",
   "metadata": {},
   "source": [
    "Ok, going from the samples files is the best way because of some of the weird subject ID to sample mappings..."
   ]
  },
  {
   "cell_type": "code",
   "execution_count": 20,
   "metadata": {},
   "outputs": [],
   "source": [
    "# Get samples and connect metadata to these subjects\n",
    "fmeta = '../../data/clean/rosen.metadata.clean'\n",
    "meta = pd.read_csv(fmeta, sep='\\t', index_col=0)"
   ]
  },
  {
   "cell_type": "code",
   "execution_count": 21,
   "metadata": {},
   "outputs": [
    {
     "data": {
      "text/plain": [
       "site\n",
       "bal              102\n",
       "gastric_fluid    147\n",
       "stool             25\n",
       "throat_swab      176\n",
       "dtype: int64"
      ]
     },
     "execution_count": 21,
     "metadata": {},
     "output_type": "execute_result"
    }
   ],
   "source": [
    "setsamples = list(set(allsamples))\n",
    "meta.loc[setsamples].groupby('site').size()"
   ]
  },
  {
   "cell_type": "code",
   "execution_count": 7,
   "metadata": {},
   "outputs": [],
   "source": [
    "# Hm, I was expecting 20 stool samples. Let's look into this more\n",
    "# Punchline: 20 stool samples have paired throat sample, but I have 25 total samples in the PCoA plot\n",
    "stoolsamples = meta.loc[setsamples].query('site == \"stool\"').index.tolist()"
   ]
  },
  {
   "cell_type": "code",
   "execution_count": 8,
   "metadata": {},
   "outputs": [
    {
     "name": "stdout",
     "output_type": "stream",
     "text": [
      "('figure3.site_classifiers.samples.txt', ['03-181-7SI', '03-125-1SI', '03-055-1SI', '03-076-8SI', '03-149-1SI', '03-226-4SI', '03-115-7SI', '03-114-2SI', '03-116-1SI', '03-146-6SI', '03-199-7SI', '03-156-7SI', '13-058-2SI', '03-069-2SI', '13-089-1SI', '03-138-9SI', '03-153-7SI', '03-085-9SI', '03-088-2SI', '03-105-8SI'])\n",
      "('figure2.pcoa.samples.txt', ['03-055-1SI', '03-069-2SI', '03-085-9SI', '03-088-2SI', '03-105-8SI', '03-114-2SI', '03-115-7SI', '03-116-1SI', '03-125-1SI', '13-058-2SI', '13-089-1SI', '01-165-8SI', '03-076-8SI', '03-138-9SI', '03-146-6SI', '03-149-1SI', '03-150-8SI', '03-153-7SI', '03-156-7SI', '03-178-6SI', '03-181-7SI', '03-199-7SI', '03-225-1SI', '03-226-4SI', '03-272-3SI'])\n",
      "('figure3.within_patient_beta_div.samples.txt', ['03-181-7SI', '03-125-1SI', '03-149-1SI', '03-055-1SI', '03-076-8SI', '03-226-4SI', '03-115-7SI', '03-114-2SI', '03-116-1SI', '03-199-7SI', '03-156-7SI', '13-058-2SI', '03-146-6SI', '03-069-2SI', '13-089-1SI', '03-138-9SI', '03-153-7SI', '03-085-9SI', '03-088-2SI', '03-105-8SI'])\n"
     ]
    }
   ],
   "source": [
    "# stool = []\n",
    "# for fname in files:\n",
    "#     path = os.path.join('../../data/patients/', fname)\n",
    "#     with open(path, 'r') as fh:\n",
    "#         samples = [i.strip() for i in fh.readlines()]\n",
    "#         r = [i for i in samples if i in stoolsamples]\n",
    "#         if len(r) > 0:\n",
    "#             print(fname, r)\n",
    "#             stool.append(r)"
   ]
  },
  {
   "cell_type": "code",
   "execution_count": 9,
   "metadata": {},
   "outputs": [
    {
     "name": "stdout",
     "output_type": "stream",
     "text": [
      "[]\n",
      "[]\n",
      "['01-165-8SI', '03-150-8SI', '03-178-6SI', '03-225-1SI', '03-272-3SI']\n",
      "['01-165-8SI', '03-150-8SI', '03-178-6SI', '03-225-1SI', '03-272-3SI']\n",
      "[]\n",
      "[]\n"
     ]
    }
   ],
   "source": [
    "# print([i for i in stool[0] if i not in stool[1]])\n",
    "# print([i for i in stool[0] if i not in stool[2]])\n",
    "\n",
    "# print([i for i in stool[1] if i not in stool[0]])\n",
    "# print([i for i in stool[1] if i not in stool[2]])\n",
    "\n",
    "# print([i for i in stool[2] if i not in stool[0]])\n",
    "# print([i for i in stool[2] if i not in stool[1]])\n"
   ]
  },
  {
   "cell_type": "markdown",
   "metadata": {},
   "source": [
    "There are 5 stool samples that are in the PCoA plot that are not in the classifier or within-patinet beta diversity\n",
    "This makes sense: I have 25 stool samples, but only 20 with a paired throat sample."
   ]
  },
  {
   "cell_type": "markdown",
   "metadata": {},
   "source": [
    "# Prepare data for SRA\n",
    "\n",
    "Now that I've gotten all the samples I use in all the figures, I need to prepare a tab-delimited file for upload to the SRA.\n",
    "\n",
    "A template can be found: https://www.ncbi.nlm.nih.gov/biosample/docs/templates/packages/MIMARKS.survey.human-associated.4.0.xlsx"
   ]
  },
  {
   "cell_type": "code",
   "execution_count": 10,
   "metadata": {
    "collapsed": true
   },
   "outputs": [],
   "source": [
    "fields = ['sample_name', 'organism', 'collection_date', \n",
    "          'env_biome', 'env_feature', 'env_material',\n",
    "          'geo_loc_name', 'host', 'lat_lon', \n",
    "          'subject_id']\n",
    "common_fields = ['organism', 'env_biome', 'geo_loc_name', 'host', 'lat_lon', 'collection_date']"
   ]
  },
  {
   "cell_type": "markdown",
   "metadata": {},
   "source": [
    "Some notes on these mandatory fields:\n",
    "\n",
    "- `organism` is \"the most descriptive name for this sample (to the species, if relevant).\" These are mixed communities, and it looks like usually people put \"human gut metagenome\" so here I'll just put \"human-associated metagenome\"    \n",
    "- `collection_date`: I don't have this, but I'll put sequencing_date as a differnet column with batch year       \n",
    "- all the env fields: from reading a bit more about them on the [attributes documentation](https://www.ncbi.nlm.nih.gov/biosample/docs/attributes/) and looking at a few examples, here's what I think:   \n",
    "    - `env_biome` should be human body or human-associated habitat   \n",
    "    - `env_feature` is a broad descriptor of the environment, so \"lung\", \"oropharynx\", \"stomach\"    \n",
    "    - `env_material` is what the samples actually were: \"BAL, oropharyngeal_swab, and gastric fluid   \n",
    "- `geo_loc_name` will be USA: Boston   \n",
    "- `host`: Homo sapiens   \n",
    "- `lat_lon`: omg why is this a required attribute. I'll put \"missing\" here."
   ]
  },
  {
   "cell_type": "code",
   "execution_count": 11,
   "metadata": {},
   "outputs": [
    {
     "name": "stdout",
     "output_type": "stream",
     "text": [
      "(450, 7)\n",
      "(450, 7)\n"
     ]
    }
   ],
   "source": [
    "# Set up dataframe\n",
    "sra = pd.DataFrame(columns=common_fields)\n",
    "sra['sample_name'] = setsamples\n",
    "print(sra.shape)\n",
    "\n",
    "# Populate the common attributes\n",
    "sra['organism'] = 'human-associated metagenome'\n",
    "sra['env_biome'] = 'human-associated habitat'\n",
    "sra['geo_loc_name'] = 'USA: Boston'\n",
    "sra['host'] = \"Homo sapiens\"\n",
    "sra['lat_lon'] = 'missing'\n",
    "sra['collection_date'] = 'missing'\n",
    "print(sra.shape)"
   ]
  },
  {
   "cell_type": "code",
   "execution_count": 12,
   "metadata": {},
   "outputs": [
    {
     "data": {
      "text/html": [
       "<div>\n",
       "<style scoped>\n",
       "    .dataframe tbody tr th:only-of-type {\n",
       "        vertical-align: middle;\n",
       "    }\n",
       "\n",
       "    .dataframe tbody tr th {\n",
       "        vertical-align: top;\n",
       "    }\n",
       "\n",
       "    .dataframe thead th {\n",
       "        text-align: right;\n",
       "    }\n",
       "</style>\n",
       "<table border=\"1\" class=\"dataframe\">\n",
       "  <thead>\n",
       "    <tr style=\"text-align: right;\">\n",
       "      <th></th>\n",
       "      <th>organism</th>\n",
       "      <th>env_biome</th>\n",
       "      <th>geo_loc_name</th>\n",
       "      <th>host</th>\n",
       "      <th>lat_lon</th>\n",
       "      <th>collection_date</th>\n",
       "      <th>sample_name</th>\n",
       "      <th>site</th>\n",
       "      <th>subject_id</th>\n",
       "      <th>batch</th>\n",
       "    </tr>\n",
       "  </thead>\n",
       "  <tbody>\n",
       "    <tr>\n",
       "      <th>0</th>\n",
       "      <td>human-associated metagenome</td>\n",
       "      <td>human-associated habitat</td>\n",
       "      <td>USA: Boston</td>\n",
       "      <td>Homo sapiens</td>\n",
       "      <td>missing</td>\n",
       "      <td>missing</td>\n",
       "      <td>04-074-1T</td>\n",
       "      <td>throat_swab</td>\n",
       "      <td>04-074-1</td>\n",
       "      <td>2014</td>\n",
       "    </tr>\n",
       "    <tr>\n",
       "      <th>1</th>\n",
       "      <td>human-associated metagenome</td>\n",
       "      <td>human-associated habitat</td>\n",
       "      <td>USA: Boston</td>\n",
       "      <td>Homo sapiens</td>\n",
       "      <td>missing</td>\n",
       "      <td>missing</td>\n",
       "      <td>02-164-1G</td>\n",
       "      <td>gastric_fluid</td>\n",
       "      <td>02-164-1</td>\n",
       "      <td>2014</td>\n",
       "    </tr>\n",
       "    <tr>\n",
       "      <th>2</th>\n",
       "      <td>human-associated metagenome</td>\n",
       "      <td>human-associated habitat</td>\n",
       "      <td>USA: Boston</td>\n",
       "      <td>Homo sapiens</td>\n",
       "      <td>missing</td>\n",
       "      <td>missing</td>\n",
       "      <td>04-262-5T</td>\n",
       "      <td>throat_swab</td>\n",
       "      <td>04-262-5</td>\n",
       "      <td>2016</td>\n",
       "    </tr>\n",
       "    <tr>\n",
       "      <th>3</th>\n",
       "      <td>human-associated metagenome</td>\n",
       "      <td>human-associated habitat</td>\n",
       "      <td>USA: Boston</td>\n",
       "      <td>Homo sapiens</td>\n",
       "      <td>missing</td>\n",
       "      <td>missing</td>\n",
       "      <td>04-074-1G</td>\n",
       "      <td>gastric_fluid</td>\n",
       "      <td>04-074-1</td>\n",
       "      <td>2014</td>\n",
       "    </tr>\n",
       "    <tr>\n",
       "      <th>4</th>\n",
       "      <td>human-associated metagenome</td>\n",
       "      <td>human-associated habitat</td>\n",
       "      <td>USA: Boston</td>\n",
       "      <td>Homo sapiens</td>\n",
       "      <td>missing</td>\n",
       "      <td>missing</td>\n",
       "      <td>04-074-1B</td>\n",
       "      <td>bal</td>\n",
       "      <td>04-074-1</td>\n",
       "      <td>2014</td>\n",
       "    </tr>\n",
       "  </tbody>\n",
       "</table>\n",
       "</div>"
      ],
      "text/plain": [
       "                      organism                 env_biome geo_loc_name  \\\n",
       "0  human-associated metagenome  human-associated habitat  USA: Boston   \n",
       "1  human-associated metagenome  human-associated habitat  USA: Boston   \n",
       "2  human-associated metagenome  human-associated habitat  USA: Boston   \n",
       "3  human-associated metagenome  human-associated habitat  USA: Boston   \n",
       "4  human-associated metagenome  human-associated habitat  USA: Boston   \n",
       "\n",
       "           host  lat_lon collection_date sample_name           site  \\\n",
       "0  Homo sapiens  missing         missing   04-074-1T    throat_swab   \n",
       "1  Homo sapiens  missing         missing   02-164-1G  gastric_fluid   \n",
       "2  Homo sapiens  missing         missing   04-262-5T    throat_swab   \n",
       "3  Homo sapiens  missing         missing   04-074-1G  gastric_fluid   \n",
       "4  Homo sapiens  missing         missing   04-074-1B            bal   \n",
       "\n",
       "  subject_id  batch  \n",
       "0   04-074-1   2014  \n",
       "1   02-164-1   2014  \n",
       "2   04-262-5   2016  \n",
       "3   04-074-1   2014  \n",
       "4   04-074-1   2014  "
      ]
     },
     "execution_count": 12,
     "metadata": {},
     "output_type": "execute_result"
    }
   ],
   "source": [
    "metacols = ['site', 'subject_id', 'batch']\n",
    "sra = pd.merge(sra, meta[metacols], how='left', \n",
    "               left_on='sample_name', right_index=True)\n",
    "sra.head()"
   ]
  },
  {
   "cell_type": "code",
   "execution_count": 13,
   "metadata": {},
   "outputs": [
    {
     "data": {
      "text/html": [
       "<div>\n",
       "<style scoped>\n",
       "    .dataframe tbody tr th:only-of-type {\n",
       "        vertical-align: middle;\n",
       "    }\n",
       "\n",
       "    .dataframe tbody tr th {\n",
       "        vertical-align: top;\n",
       "    }\n",
       "\n",
       "    .dataframe thead th {\n",
       "        text-align: right;\n",
       "    }\n",
       "</style>\n",
       "<table border=\"1\" class=\"dataframe\">\n",
       "  <thead>\n",
       "    <tr style=\"text-align: right;\">\n",
       "      <th></th>\n",
       "      <th>organism</th>\n",
       "      <th>env_biome</th>\n",
       "      <th>geo_loc_name</th>\n",
       "      <th>host</th>\n",
       "      <th>lat_lon</th>\n",
       "      <th>collection_date</th>\n",
       "      <th>sample_name</th>\n",
       "      <th>subject_id</th>\n",
       "      <th>sequencing_date</th>\n",
       "      <th>env_feature</th>\n",
       "      <th>env_material</th>\n",
       "    </tr>\n",
       "  </thead>\n",
       "  <tbody>\n",
       "    <tr>\n",
       "      <th>0</th>\n",
       "      <td>human-associated metagenome</td>\n",
       "      <td>human-associated habitat</td>\n",
       "      <td>USA: Boston</td>\n",
       "      <td>Homo sapiens</td>\n",
       "      <td>missing</td>\n",
       "      <td>missing</td>\n",
       "      <td>04-074-1T</td>\n",
       "      <td>04-074-1</td>\n",
       "      <td>2014</td>\n",
       "      <td>oropharynx</td>\n",
       "      <td>oropharyngeal_swab</td>\n",
       "    </tr>\n",
       "    <tr>\n",
       "      <th>1</th>\n",
       "      <td>human-associated metagenome</td>\n",
       "      <td>human-associated habitat</td>\n",
       "      <td>USA: Boston</td>\n",
       "      <td>Homo sapiens</td>\n",
       "      <td>missing</td>\n",
       "      <td>missing</td>\n",
       "      <td>02-164-1G</td>\n",
       "      <td>02-164-1</td>\n",
       "      <td>2014</td>\n",
       "      <td>stomach</td>\n",
       "      <td>gastric_fluid</td>\n",
       "    </tr>\n",
       "    <tr>\n",
       "      <th>2</th>\n",
       "      <td>human-associated metagenome</td>\n",
       "      <td>human-associated habitat</td>\n",
       "      <td>USA: Boston</td>\n",
       "      <td>Homo sapiens</td>\n",
       "      <td>missing</td>\n",
       "      <td>missing</td>\n",
       "      <td>04-262-5T</td>\n",
       "      <td>04-262-5</td>\n",
       "      <td>2016</td>\n",
       "      <td>oropharynx</td>\n",
       "      <td>oropharyngeal_swab</td>\n",
       "    </tr>\n",
       "    <tr>\n",
       "      <th>3</th>\n",
       "      <td>human-associated metagenome</td>\n",
       "      <td>human-associated habitat</td>\n",
       "      <td>USA: Boston</td>\n",
       "      <td>Homo sapiens</td>\n",
       "      <td>missing</td>\n",
       "      <td>missing</td>\n",
       "      <td>04-074-1G</td>\n",
       "      <td>04-074-1</td>\n",
       "      <td>2014</td>\n",
       "      <td>stomach</td>\n",
       "      <td>gastric_fluid</td>\n",
       "    </tr>\n",
       "    <tr>\n",
       "      <th>4</th>\n",
       "      <td>human-associated metagenome</td>\n",
       "      <td>human-associated habitat</td>\n",
       "      <td>USA: Boston</td>\n",
       "      <td>Homo sapiens</td>\n",
       "      <td>missing</td>\n",
       "      <td>missing</td>\n",
       "      <td>04-074-1B</td>\n",
       "      <td>04-074-1</td>\n",
       "      <td>2014</td>\n",
       "      <td>lung</td>\n",
       "      <td>bronchoalveolar_lavage</td>\n",
       "    </tr>\n",
       "  </tbody>\n",
       "</table>\n",
       "</div>"
      ],
      "text/plain": [
       "                      organism                 env_biome geo_loc_name  \\\n",
       "0  human-associated metagenome  human-associated habitat  USA: Boston   \n",
       "1  human-associated metagenome  human-associated habitat  USA: Boston   \n",
       "2  human-associated metagenome  human-associated habitat  USA: Boston   \n",
       "3  human-associated metagenome  human-associated habitat  USA: Boston   \n",
       "4  human-associated metagenome  human-associated habitat  USA: Boston   \n",
       "\n",
       "           host  lat_lon collection_date sample_name subject_id  \\\n",
       "0  Homo sapiens  missing         missing   04-074-1T   04-074-1   \n",
       "1  Homo sapiens  missing         missing   02-164-1G   02-164-1   \n",
       "2  Homo sapiens  missing         missing   04-262-5T   04-262-5   \n",
       "3  Homo sapiens  missing         missing   04-074-1G   04-074-1   \n",
       "4  Homo sapiens  missing         missing   04-074-1B   04-074-1   \n",
       "\n",
       "   sequencing_date env_feature            env_material  \n",
       "0             2014  oropharynx      oropharyngeal_swab  \n",
       "1             2014     stomach           gastric_fluid  \n",
       "2             2016  oropharynx      oropharyngeal_swab  \n",
       "3             2014     stomach           gastric_fluid  \n",
       "4             2014        lung  bronchoalveolar_lavage  "
      ]
     },
     "execution_count": 13,
     "metadata": {},
     "output_type": "execute_result"
    }
   ],
   "source": [
    "feat_map = {'throat_swab': 'oropharynx', 'bal': 'lung', 'gastric_fluid': 'stomach', 'stool': 'gut'}\n",
    "sra['env_feature'] = sra['site'].map(lambda x: feat_map[x])\n",
    "\n",
    "mat_map = {'throat_swab': 'oropharyngeal_swab', 'bal': 'bronchoalveolar_lavage', \n",
    "           'gastric_fluid': 'gastric_fluid', 'stool': 'feces'}\n",
    "sra['env_material'] = sra['site'].map(lambda x: mat_map[x])\n",
    "\n",
    "sra = sra.rename(columns={'batch': 'sequencing_date'})\n",
    "sra = sra.drop('site', axis=1)\n",
    "\n",
    "sra.head()"
   ]
  },
  {
   "cell_type": "code",
   "execution_count": 14,
   "metadata": {},
   "outputs": [
    {
     "data": {
      "text/plain": [
       "[]"
      ]
     },
     "execution_count": 14,
     "metadata": {},
     "output_type": "execute_result"
    }
   ],
   "source": [
    "[i for i in fields if i not in sra.columns]"
   ]
  },
  {
   "cell_type": "code",
   "execution_count": 15,
   "metadata": {
    "collapsed": true
   },
   "outputs": [],
   "source": [
    "sra.to_csv('../../final/supp_files/biosample_attributes.SUB3758953.txt', sep='\\t', index=False)"
   ]
  },
  {
   "cell_type": "code",
   "execution_count": null,
   "metadata": {
    "collapsed": true
   },
   "outputs": [],
   "source": []
  },
  {
   "cell_type": "markdown",
   "metadata": {},
   "source": [
    "# Download data on AWS\n",
    "\n",
    "First, I need to get the name of samples in the two batches (they're in different folders on AWS).\n"
   ]
  },
  {
   "cell_type": "code",
   "execution_count": 16,
   "metadata": {
    "collapsed": true
   },
   "outputs": [],
   "source": [
    "# 2014 data\n",
    "with open('sample_list.2014.txt', 'w') as f:\n",
    "    f.write('\\n'.join(sra.query('sequencing_date == 2014')['sample_name'].tolist()) + '\\n')"
   ]
  },
  {
   "cell_type": "code",
   "execution_count": 17,
   "metadata": {},
   "outputs": [],
   "source": [
    "# 2016 data is in format subjectID-sampleID_R1.fastq, except for the following samples:\n",
    "# ['58-4-TI', '50-4-TI', '48-1-TI', '57-9-TI', '51-6-TI', '55-1-TI']\n",
    "# e.g. 04-200-1-G_R1.fastq\n",
    "samples2016 = sra.query('sequencing_date == 2016')['sample_name'].tolist()\n",
    "normal_files = ['58-4-TI', '50-4-TI', '48-1-TI', '57-9-TI', '51-6-TI', '55-1-TI']\n",
    "files2016 = []\n",
    "for s in samples2016:\n",
    "    if s in normal_files:\n",
    "        files2016.append(s + '_R1.fastq')\n",
    "        files2016.append(s + '_R2.fastq')\n",
    "    else:\n",
    "        news = s.rsplit('-', 1)[0] + '-' + s.rsplit('-', 1)[1][0] + '-' + s.rsplit('-', 1)[1][1:]\n",
    "        files2016.append(news + '_R1.fastq')\n",
    "        files2016.append(news + '_R2.fastq')\n",
    "with open('file_list.2016.txt', 'w') as f:\n",
    "    f.write('\\n'.join(files2016) + '\\n')"
   ]
  },
  {
   "cell_type": "markdown",
   "metadata": {},
   "source": [
    "Upload these files to the almlab node.\n",
    "\n",
    "#### Download each file (fwd and rev) to almlab node \n",
    "\n",
    "2014 samples: just read sample IDs from file:\n",
    "\n",
    "```\n",
    "while read f; do aws s3 cp s3://almlab.bucket/duvallet/rosen_data/2014_data/fastq_R1_R2/${f}_R1.fastq .; aws s3 cp s3://almlab.bucket/duvallet/rosen_data/2014_data/fastq_R1_R2/${f}_R2.fastq .; done < ../sample_list.2014.txt \n",
    "```\n",
    "\n",
    "2016 samples: read in individual files:\n",
    "\n",
    "```\n",
    "while read f; do aws s3 cp s3://almlab.bucket/duvallet/rosen_data/2016_data/fastq_split/${f} .; done < ../file_list.2016.txt\n",
    "```\n",
    "\n",
    "#### Check that each sample ID in the sra_metadata.SUB3758953.txt file has a fwd and rev file    \n",
    "\n",
    "2016 files are good, 2014 file has sample \"04-087-1G\" which has lowercase \"g\" in the file name.\n",
    "\n",
    "Just do this one manually:\n",
    "\n",
    "```\n",
    "aws s3 cp s3://almlab.bucket/duvallet/rosen_data/2014_data/fastq_R1_R2/04-087-1g_R1.fastq .\n",
    "aws s3 cp s3://almlab.bucket/duvallet/rosen_data/2014_data/fastq_R1_R2/04-087-1g_R2.fastq .\n",
    "```\n",
    "\n",
    "There are 450 samples, so should be 900 total files. Check!\n",
    "\n",
    "#### Write the file names in the SRA Metadata file   \n",
    "\n",
    "\n",
    "#### ftp the files to SRA ([doc](https://www.ncbi.nlm.nih.gov/sra/docs/submitfiles/))\n",
    "\n",
    "Still TODO:\n",
    "\n",
    "- fill in the sequencer and platform info after I get methods from Scott"
   ]
  },
  {
   "cell_type": "markdown",
   "metadata": {},
   "source": [
    "# SRA Metadata\n",
    "\n",
    "https://www.ncbi.nlm.nih.gov/sra/docs/submitportal/#6-sra-metadata\n",
    "\n",
    "This is different, and has info about the way each sample was processed etc\n",
    "\n",
    "strategy will be AMPLICON   \n",
    "source will be METAGENOMIC   \n",
    "selection will be PCR   \n",
    "platform is TBD   \n",
    "\n",
    "Other columns\n",
    "\n",
    "bioproject_accession - leave empty   \n",
    "sample_name - \"If you created samples in the SRA wizard, provide names of samples that you just created in the column sample_name\"   \n",
    "library_ID - just needs to be unique per sample, so probably just make it sample name?   \n",
    "title - Aerodigestive microbiome: 16S sequencing of oropharyngeal, gastric, and BAL samples\n",
    "\n",
    "library_strategy - AMPLICON     \n",
    "library_source - METAGENOMIC     \n",
    "library_selection - PCR    \n",
    "library_layout - PAIRED    \n",
    "platform - TBD    \n",
    "instrument_model - TBD    \n",
    "design_description - TBD (\"Free-form description of the methods used to create the sequencing library; a brief 'materials and methods' section.\"    \n",
    "filetype - fastq    \n",
    "filename - forward read (?)    \n",
    "filename2 - reverse read (?)  \n"
   ]
  },
  {
   "cell_type": "code",
   "execution_count": 18,
   "metadata": {},
   "outputs": [
    {
     "data": {
      "text/html": [
       "<div>\n",
       "<style scoped>\n",
       "    .dataframe tbody tr th:only-of-type {\n",
       "        vertical-align: middle;\n",
       "    }\n",
       "\n",
       "    .dataframe tbody tr th {\n",
       "        vertical-align: top;\n",
       "    }\n",
       "\n",
       "    .dataframe thead th {\n",
       "        text-align: right;\n",
       "    }\n",
       "</style>\n",
       "<table border=\"1\" class=\"dataframe\">\n",
       "  <thead>\n",
       "    <tr style=\"text-align: right;\">\n",
       "      <th></th>\n",
       "      <th>bioproject_accession</th>\n",
       "      <th>sample_name</th>\n",
       "      <th>library_ID</th>\n",
       "      <th>title</th>\n",
       "      <th>library_strategy</th>\n",
       "      <th>library_source</th>\n",
       "      <th>library_selection</th>\n",
       "      <th>library_layout</th>\n",
       "      <th>platform</th>\n",
       "      <th>instrument_model</th>\n",
       "      <th>design_description</th>\n",
       "      <th>filetype</th>\n",
       "      <th>filename</th>\n",
       "      <th>filename2</th>\n",
       "    </tr>\n",
       "  </thead>\n",
       "  <tbody>\n",
       "    <tr>\n",
       "      <th>0</th>\n",
       "      <td>NaN</td>\n",
       "      <td>04-074-1T</td>\n",
       "      <td>04-074-1T</td>\n",
       "      <td>Aerodigestive microbiome: 16S sequencing of or...</td>\n",
       "      <td>AMPLICON</td>\n",
       "      <td>METAGENOMIC</td>\n",
       "      <td>PCR</td>\n",
       "      <td>PAIRED</td>\n",
       "      <td>ILLUMINA</td>\n",
       "      <td>Illumina MiSeq</td>\n",
       "      <td>Samples suspended in Tris-Saline buffer were c...</td>\n",
       "      <td>fastq</td>\n",
       "      <td>NaN</td>\n",
       "      <td>NaN</td>\n",
       "    </tr>\n",
       "    <tr>\n",
       "      <th>1</th>\n",
       "      <td>NaN</td>\n",
       "      <td>02-164-1G</td>\n",
       "      <td>02-164-1G</td>\n",
       "      <td>Aerodigestive microbiome: 16S sequencing of or...</td>\n",
       "      <td>AMPLICON</td>\n",
       "      <td>METAGENOMIC</td>\n",
       "      <td>PCR</td>\n",
       "      <td>PAIRED</td>\n",
       "      <td>ILLUMINA</td>\n",
       "      <td>Illumina MiSeq</td>\n",
       "      <td>Samples suspended in Tris-Saline buffer were c...</td>\n",
       "      <td>fastq</td>\n",
       "      <td>NaN</td>\n",
       "      <td>NaN</td>\n",
       "    </tr>\n",
       "    <tr>\n",
       "      <th>2</th>\n",
       "      <td>NaN</td>\n",
       "      <td>04-262-5T</td>\n",
       "      <td>04-262-5T</td>\n",
       "      <td>Aerodigestive microbiome: 16S sequencing of or...</td>\n",
       "      <td>AMPLICON</td>\n",
       "      <td>METAGENOMIC</td>\n",
       "      <td>PCR</td>\n",
       "      <td>PAIRED</td>\n",
       "      <td>ILLUMINA</td>\n",
       "      <td>Illumina MiSeq</td>\n",
       "      <td>Samples suspended in Tris-Saline buffer were c...</td>\n",
       "      <td>fastq</td>\n",
       "      <td>NaN</td>\n",
       "      <td>NaN</td>\n",
       "    </tr>\n",
       "    <tr>\n",
       "      <th>3</th>\n",
       "      <td>NaN</td>\n",
       "      <td>04-074-1G</td>\n",
       "      <td>04-074-1G</td>\n",
       "      <td>Aerodigestive microbiome: 16S sequencing of or...</td>\n",
       "      <td>AMPLICON</td>\n",
       "      <td>METAGENOMIC</td>\n",
       "      <td>PCR</td>\n",
       "      <td>PAIRED</td>\n",
       "      <td>ILLUMINA</td>\n",
       "      <td>Illumina MiSeq</td>\n",
       "      <td>Samples suspended in Tris-Saline buffer were c...</td>\n",
       "      <td>fastq</td>\n",
       "      <td>NaN</td>\n",
       "      <td>NaN</td>\n",
       "    </tr>\n",
       "    <tr>\n",
       "      <th>4</th>\n",
       "      <td>NaN</td>\n",
       "      <td>04-074-1B</td>\n",
       "      <td>04-074-1B</td>\n",
       "      <td>Aerodigestive microbiome: 16S sequencing of or...</td>\n",
       "      <td>AMPLICON</td>\n",
       "      <td>METAGENOMIC</td>\n",
       "      <td>PCR</td>\n",
       "      <td>PAIRED</td>\n",
       "      <td>ILLUMINA</td>\n",
       "      <td>Illumina MiSeq</td>\n",
       "      <td>Samples suspended in Tris-Saline buffer were c...</td>\n",
       "      <td>fastq</td>\n",
       "      <td>NaN</td>\n",
       "      <td>NaN</td>\n",
       "    </tr>\n",
       "  </tbody>\n",
       "</table>\n",
       "</div>"
      ],
      "text/plain": [
       "  bioproject_accession sample_name library_ID  \\\n",
       "0                  NaN   04-074-1T  04-074-1T   \n",
       "1                  NaN   02-164-1G  02-164-1G   \n",
       "2                  NaN   04-262-5T  04-262-5T   \n",
       "3                  NaN   04-074-1G  04-074-1G   \n",
       "4                  NaN   04-074-1B  04-074-1B   \n",
       "\n",
       "                                               title library_strategy  \\\n",
       "0  Aerodigestive microbiome: 16S sequencing of or...         AMPLICON   \n",
       "1  Aerodigestive microbiome: 16S sequencing of or...         AMPLICON   \n",
       "2  Aerodigestive microbiome: 16S sequencing of or...         AMPLICON   \n",
       "3  Aerodigestive microbiome: 16S sequencing of or...         AMPLICON   \n",
       "4  Aerodigestive microbiome: 16S sequencing of or...         AMPLICON   \n",
       "\n",
       "  library_source library_selection library_layout  platform instrument_model  \\\n",
       "0    METAGENOMIC               PCR         PAIRED  ILLUMINA   Illumina MiSeq   \n",
       "1    METAGENOMIC               PCR         PAIRED  ILLUMINA   Illumina MiSeq   \n",
       "2    METAGENOMIC               PCR         PAIRED  ILLUMINA   Illumina MiSeq   \n",
       "3    METAGENOMIC               PCR         PAIRED  ILLUMINA   Illumina MiSeq   \n",
       "4    METAGENOMIC               PCR         PAIRED  ILLUMINA   Illumina MiSeq   \n",
       "\n",
       "                                  design_description filetype filename  \\\n",
       "0  Samples suspended in Tris-Saline buffer were c...    fastq      NaN   \n",
       "1  Samples suspended in Tris-Saline buffer were c...    fastq      NaN   \n",
       "2  Samples suspended in Tris-Saline buffer were c...    fastq      NaN   \n",
       "3  Samples suspended in Tris-Saline buffer were c...    fastq      NaN   \n",
       "4  Samples suspended in Tris-Saline buffer were c...    fastq      NaN   \n",
       "\n",
       "  filename2  \n",
       "0       NaN  \n",
       "1       NaN  \n",
       "2       NaN  \n",
       "3       NaN  \n",
       "4       NaN  "
      ]
     },
     "execution_count": 18,
     "metadata": {},
     "output_type": "execute_result"
    }
   ],
   "source": [
    "cols = ['bioproject_accession', 'sample_name', 'library_ID', \n",
    "        'title', 'library_strategy', 'library_source', \n",
    "        'library_selection', 'library_layout', 'platform', \n",
    "        'instrument_model', 'design_description', \n",
    "        'filetype', 'filename', 'filename2']\n",
    "\n",
    "# Set up SRA metadata\n",
    "srameta = pd.DataFrame(columns=cols)\n",
    "srameta['sample_name'] = setsamples\n",
    "srameta['library_ID'] = setsamples\n",
    "\n",
    "# Common items\n",
    "srameta['library_strategy'] = 'AMPLICON'\n",
    "srameta['library_source'] = 'METAGENOMIC'\n",
    "srameta['library_selection'] = 'PCR'\n",
    "srameta['library_layout'] = 'PAIRED'\n",
    "srameta['filetype'] = 'fastq'\n",
    "\n",
    "srameta['title'] = 'Aerodigestive microbiome: 16S sequencing of oropharyngeal, gastric, and BAL samples'\n",
    "srameta['platform'] = 'ILLUMINA'\n",
    "srameta['instrument_model'] = 'Illumina MiSeq'\n",
    "srameta['design_description'] = ('Samples suspended in Tris-Saline buffer were centrifuged '\n",
    "                                 'for 3 minutes at 10,000 rcf. DNA was extracted from the sample '\n",
    "                                 'pellet with the Qiagen DNeasy PowerSoil Kit, with the following '\n",
    "                                 'modifications: protein precipitation in one step using 100 μL of '\n",
    "                                 'each C2 and C3 solutions, and column centrifugation at 10,000 rcf '\n",
    "                                 'for 10 minutes.')\n",
    "\n",
    "srameta.head()"
   ]
  },
  {
   "cell_type": "code",
   "execution_count": 19,
   "metadata": {},
   "outputs": [],
   "source": [
    "# File names\n",
    "s2file = {}\n",
    "s2file_r2 = {}\n",
    "\n",
    "# 2014 files\n",
    "samples2014 = sra.query('sequencing_date == 2014')['sample_name'].tolist()\n",
    "\n",
    "s2file = {s: s + '_R1.fastq' for s in samples2014}\n",
    "s2file[\"04-087-1G\"] = \"04-087-1g_R1.fastq\"\n",
    "\n",
    "s2file_r2 = {s: s + '_R2.fastq' for s in samples2014}\n",
    "s2file_r2[\"04-087-1G\"] = \"04-087-1g_R2.fastq\"\n",
    "\n",
    "\n",
    "# 2016 files\n",
    "for s in samples2016:\n",
    "    if s in normal_files:\n",
    "        s2file[s] = s + '_R1.fastq'\n",
    "        s2file_r2[s] = s + '_R2.fastq'\n",
    "    else:\n",
    "        news = s.rsplit('-', 1)[0] + '-' + s.rsplit('-', 1)[1][0] + '-' + s.rsplit('-', 1)[1][1:]\n",
    "        s2file[s] = news + '_R1.fastq'\n",
    "        s2file_r2[s] = news + '_R2.fastq'"
   ]
  },
  {
   "cell_type": "code",
   "execution_count": 20,
   "metadata": {
    "collapsed": true
   },
   "outputs": [],
   "source": [
    "srameta['filename'] = srameta['sample_name'].apply(lambda x: s2file[x])\n",
    "srameta['filename2'] = srameta['sample_name'].apply(lambda x: s2file_r2[x])"
   ]
  },
  {
   "cell_type": "code",
   "execution_count": 21,
   "metadata": {},
   "outputs": [
    {
     "data": {
      "text/html": [
       "<div>\n",
       "<style scoped>\n",
       "    .dataframe tbody tr th:only-of-type {\n",
       "        vertical-align: middle;\n",
       "    }\n",
       "\n",
       "    .dataframe tbody tr th {\n",
       "        vertical-align: top;\n",
       "    }\n",
       "\n",
       "    .dataframe thead th {\n",
       "        text-align: right;\n",
       "    }\n",
       "</style>\n",
       "<table border=\"1\" class=\"dataframe\">\n",
       "  <thead>\n",
       "    <tr style=\"text-align: right;\">\n",
       "      <th></th>\n",
       "      <th>bioproject_accession</th>\n",
       "      <th>sample_name</th>\n",
       "      <th>library_ID</th>\n",
       "      <th>title</th>\n",
       "      <th>library_strategy</th>\n",
       "      <th>library_source</th>\n",
       "      <th>library_selection</th>\n",
       "      <th>library_layout</th>\n",
       "      <th>platform</th>\n",
       "      <th>instrument_model</th>\n",
       "      <th>design_description</th>\n",
       "      <th>filetype</th>\n",
       "      <th>filename</th>\n",
       "      <th>filename2</th>\n",
       "    </tr>\n",
       "  </thead>\n",
       "  <tbody>\n",
       "    <tr>\n",
       "      <th>0</th>\n",
       "      <td>NaN</td>\n",
       "      <td>04-074-1T</td>\n",
       "      <td>04-074-1T</td>\n",
       "      <td>Aerodigestive microbiome: 16S sequencing of or...</td>\n",
       "      <td>AMPLICON</td>\n",
       "      <td>METAGENOMIC</td>\n",
       "      <td>PCR</td>\n",
       "      <td>PAIRED</td>\n",
       "      <td>ILLUMINA</td>\n",
       "      <td>Illumina MiSeq</td>\n",
       "      <td>Samples suspended in Tris-Saline buffer were c...</td>\n",
       "      <td>fastq</td>\n",
       "      <td>04-074-1T_R1.fastq</td>\n",
       "      <td>04-074-1T_R2.fastq</td>\n",
       "    </tr>\n",
       "    <tr>\n",
       "      <th>1</th>\n",
       "      <td>NaN</td>\n",
       "      <td>02-164-1G</td>\n",
       "      <td>02-164-1G</td>\n",
       "      <td>Aerodigestive microbiome: 16S sequencing of or...</td>\n",
       "      <td>AMPLICON</td>\n",
       "      <td>METAGENOMIC</td>\n",
       "      <td>PCR</td>\n",
       "      <td>PAIRED</td>\n",
       "      <td>ILLUMINA</td>\n",
       "      <td>Illumina MiSeq</td>\n",
       "      <td>Samples suspended in Tris-Saline buffer were c...</td>\n",
       "      <td>fastq</td>\n",
       "      <td>02-164-1G_R1.fastq</td>\n",
       "      <td>02-164-1G_R2.fastq</td>\n",
       "    </tr>\n",
       "    <tr>\n",
       "      <th>2</th>\n",
       "      <td>NaN</td>\n",
       "      <td>04-262-5T</td>\n",
       "      <td>04-262-5T</td>\n",
       "      <td>Aerodigestive microbiome: 16S sequencing of or...</td>\n",
       "      <td>AMPLICON</td>\n",
       "      <td>METAGENOMIC</td>\n",
       "      <td>PCR</td>\n",
       "      <td>PAIRED</td>\n",
       "      <td>ILLUMINA</td>\n",
       "      <td>Illumina MiSeq</td>\n",
       "      <td>Samples suspended in Tris-Saline buffer were c...</td>\n",
       "      <td>fastq</td>\n",
       "      <td>04-262-5-T_R1.fastq</td>\n",
       "      <td>04-262-5-T_R2.fastq</td>\n",
       "    </tr>\n",
       "    <tr>\n",
       "      <th>3</th>\n",
       "      <td>NaN</td>\n",
       "      <td>04-074-1G</td>\n",
       "      <td>04-074-1G</td>\n",
       "      <td>Aerodigestive microbiome: 16S sequencing of or...</td>\n",
       "      <td>AMPLICON</td>\n",
       "      <td>METAGENOMIC</td>\n",
       "      <td>PCR</td>\n",
       "      <td>PAIRED</td>\n",
       "      <td>ILLUMINA</td>\n",
       "      <td>Illumina MiSeq</td>\n",
       "      <td>Samples suspended in Tris-Saline buffer were c...</td>\n",
       "      <td>fastq</td>\n",
       "      <td>04-074-1G_R1.fastq</td>\n",
       "      <td>04-074-1G_R2.fastq</td>\n",
       "    </tr>\n",
       "    <tr>\n",
       "      <th>4</th>\n",
       "      <td>NaN</td>\n",
       "      <td>04-074-1B</td>\n",
       "      <td>04-074-1B</td>\n",
       "      <td>Aerodigestive microbiome: 16S sequencing of or...</td>\n",
       "      <td>AMPLICON</td>\n",
       "      <td>METAGENOMIC</td>\n",
       "      <td>PCR</td>\n",
       "      <td>PAIRED</td>\n",
       "      <td>ILLUMINA</td>\n",
       "      <td>Illumina MiSeq</td>\n",
       "      <td>Samples suspended in Tris-Saline buffer were c...</td>\n",
       "      <td>fastq</td>\n",
       "      <td>04-074-1B_R1.fastq</td>\n",
       "      <td>04-074-1B_R2.fastq</td>\n",
       "    </tr>\n",
       "  </tbody>\n",
       "</table>\n",
       "</div>"
      ],
      "text/plain": [
       "  bioproject_accession sample_name library_ID  \\\n",
       "0                  NaN   04-074-1T  04-074-1T   \n",
       "1                  NaN   02-164-1G  02-164-1G   \n",
       "2                  NaN   04-262-5T  04-262-5T   \n",
       "3                  NaN   04-074-1G  04-074-1G   \n",
       "4                  NaN   04-074-1B  04-074-1B   \n",
       "\n",
       "                                               title library_strategy  \\\n",
       "0  Aerodigestive microbiome: 16S sequencing of or...         AMPLICON   \n",
       "1  Aerodigestive microbiome: 16S sequencing of or...         AMPLICON   \n",
       "2  Aerodigestive microbiome: 16S sequencing of or...         AMPLICON   \n",
       "3  Aerodigestive microbiome: 16S sequencing of or...         AMPLICON   \n",
       "4  Aerodigestive microbiome: 16S sequencing of or...         AMPLICON   \n",
       "\n",
       "  library_source library_selection library_layout  platform instrument_model  \\\n",
       "0    METAGENOMIC               PCR         PAIRED  ILLUMINA   Illumina MiSeq   \n",
       "1    METAGENOMIC               PCR         PAIRED  ILLUMINA   Illumina MiSeq   \n",
       "2    METAGENOMIC               PCR         PAIRED  ILLUMINA   Illumina MiSeq   \n",
       "3    METAGENOMIC               PCR         PAIRED  ILLUMINA   Illumina MiSeq   \n",
       "4    METAGENOMIC               PCR         PAIRED  ILLUMINA   Illumina MiSeq   \n",
       "\n",
       "                                  design_description filetype  \\\n",
       "0  Samples suspended in Tris-Saline buffer were c...    fastq   \n",
       "1  Samples suspended in Tris-Saline buffer were c...    fastq   \n",
       "2  Samples suspended in Tris-Saline buffer were c...    fastq   \n",
       "3  Samples suspended in Tris-Saline buffer were c...    fastq   \n",
       "4  Samples suspended in Tris-Saline buffer were c...    fastq   \n",
       "\n",
       "              filename            filename2  \n",
       "0   04-074-1T_R1.fastq   04-074-1T_R2.fastq  \n",
       "1   02-164-1G_R1.fastq   02-164-1G_R2.fastq  \n",
       "2  04-262-5-T_R1.fastq  04-262-5-T_R2.fastq  \n",
       "3   04-074-1G_R1.fastq   04-074-1G_R2.fastq  \n",
       "4   04-074-1B_R1.fastq   04-074-1B_R2.fastq  "
      ]
     },
     "execution_count": 21,
     "metadata": {},
     "output_type": "execute_result"
    }
   ],
   "source": [
    "srameta.to_csv('../../final/supp_files/sra_metadata.SUB3758953.txt', sep='\\t', index=False)\n",
    "srameta.head()"
   ]
  },
  {
   "cell_type": "markdown",
   "metadata": {
    "collapsed": true
   },
   "source": [
    "Then submit at https://submit.ncbi.nlm.nih.gov/subs/sra/SUB3758953/metadata"
   ]
  },
  {
   "cell_type": "code",
   "execution_count": null,
   "metadata": {
    "collapsed": true
   },
   "outputs": [],
   "source": []
  }
 ],
 "metadata": {
  "anaconda-cloud": {},
  "kernelspec": {
   "display_name": "Python [default]",
   "language": "python",
   "name": "python2"
  },
  "language_info": {
   "codemirror_mode": {
    "name": "ipython",
    "version": 2
   },
   "file_extension": ".py",
   "mimetype": "text/x-python",
   "name": "python",
   "nbconvert_exporter": "python",
   "pygments_lexer": "ipython2",
   "version": "2.7.15"
  }
 },
 "nbformat": 4,
 "nbformat_minor": 2
}
