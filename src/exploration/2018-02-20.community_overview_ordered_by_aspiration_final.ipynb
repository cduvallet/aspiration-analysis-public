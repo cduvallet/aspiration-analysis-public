{
 "cells": [
  {
   "cell_type": "markdown",
   "metadata": {},
   "source": [
    "This notebook is my attempt to make the community overview plot separated by aspiration status"
   ]
  },
  {
   "cell_type": "code",
   "execution_count": 1,
   "metadata": {},
   "outputs": [],
   "source": [
    "import pandas as pd\n",
    "import numpy as np\n",
    "\n",
    "import matplotlib.pyplot as plt\n",
    "import matplotlib.gridspec as gridspec\n",
    "import seaborn as sns\n",
    "%matplotlib inline"
   ]
  },
  {
   "cell_type": "code",
   "execution_count": 2,
   "metadata": {},
   "outputs": [
    {
     "name": "stderr",
     "output_type": "stream",
     "text": [
      "/Users/claire/anaconda/lib/python2.7/site-packages/sklearn/cross_validation.py:41: DeprecationWarning: This module was deprecated in version 0.18 in favor of the model_selection module into which all the refactored classes and functions are moved. Also note that the interface of the new CV iterators are different from that of this module. This module will be removed in 0.20.\n",
      "  \"This module will be removed in 0.20.\", DeprecationWarning)\n"
     ]
    }
   ],
   "source": [
    "import os, sys\n",
    "src_dir = os.path.normpath(os.path.join(os.getcwd(), '../util'))\n",
    "sys.path.append(src_dir)\n",
    "import util\n"
   ]
  },
  {
   "cell_type": "code",
   "execution_count": 3,
   "metadata": {},
   "outputs": [],
   "source": [
    "fnotu = '/Users/claire/github/aspiration-analysis/data/clean/rosen.otu_table.rel_abun.clean'\n",
    "fnmeta = '/Users/claire/github/aspiration-analysis/data/clean/rosen.metadata.clean'\n",
    "\n",
    "meta = pd.read_csv(fnmeta, sep='\\t', index_col=0)\n",
    "df = pd.read_csv(fnotu, sep='\\t', index_col=0)"
   ]
  },
  {
   "cell_type": "code",
   "execution_count": 4,
   "metadata": {},
   "outputs": [],
   "source": [
    "df = util.collapse_taxonomic_contents_df(df, 'genus', keep_unanno=True)"
   ]
  },
  {
   "cell_type": "code",
   "execution_count": 5,
   "metadata": {},
   "outputs": [],
   "source": [
    "# Keep just patients with all 3 sites sequenced\n",
    "aero_sites = ['bal', 'gastric_fluid', 'throat_swab']\n",
    "\n",
    "meta['mbs_consolidated'] = meta['mbs_consolidated'].fillna('nan')\n",
    "\n",
    "meta = meta[~(  meta['sample_id.1'].str.endswith('2')\n",
    "              | meta['sample_id.1'].str.endswith('F')\n",
    "              | meta['sample_id.1'].str.endswith('F2T')\n",
    "              | meta['sample_id.1'].str.startswith('05'))]\n",
    "\n",
    "patientsamples = meta\\\n",
    "    .groupby(['mbs_consolidated', 'site', 'subject_id'])\\\n",
    "    .size()\\\n",
    "    .to_frame('n_samples')\\\n",
    "    .reset_index()\n",
    "\n",
    "subjects = patientsamples\\\n",
    "            .query('(site == @aero_sites)')\\\n",
    "            .groupby(['mbs_consolidated', 'subject_id'])\\\n",
    "            .size()"
   ]
  },
  {
   "cell_type": "code",
   "execution_count": 6,
   "metadata": {},
   "outputs": [
    {
     "name": "stdout",
     "output_type": "stream",
     "text": [
      "((198, 958), (198, 240))\n"
     ]
    }
   ],
   "source": [
    "subjects = subjects[subjects == 3].reset_index()['subject_id'].unique().tolist()\n",
    "\n",
    "# Subset metadata and OTU table\n",
    "meta = meta.query('subject_id == @subjects').sort_values(by=['subject_id', 'site'])\n",
    "df = df.loc[meta.index]\n",
    "print(meta.shape, df.shape)"
   ]
  },
  {
   "cell_type": "code",
   "execution_count": 7,
   "metadata": {},
   "outputs": [],
   "source": [
    "## Set up colormap for plotting\n",
    "def get_phylo_colors(otus):\n",
    "    \"\"\"\n",
    "    Return the df with phylum and orders. Make color_dict to plot bar phylogeny.\n",
    "\n",
    "    Parameters\n",
    "    ----------\n",
    "    otus : list or numpy array\n",
    "        list of OTUs to return colors for. Should be the full taxonomy\n",
    "        (starting with k__;...) and in the order that you'll want to plot them.\n",
    "        \n",
    "    Return\n",
    "    ------\n",
    "    phylodf : pandas DataFrame\n",
    "        dataframe with 'phylum', 'class', 'order', etc columns, in the same\n",
    "        order is in keep_rows. Values are text like ('o__Clostridiales')\n",
    "    color_dict : dict\n",
    "        dictionary with {tax_level: RGBA tuple}, where tax_level\n",
    "        is a string like 'o__Clostridiales'. All phyla and genera\n",
    "        in otus are in this dict.\n",
    "    \"\"\"\n",
    "    phylodf = pd.DataFrame(otus, columns=['full'])\n",
    "    # Split full taxonomy into sub-taxa\n",
    "    phylodf = phylodf['full'].str.split(';', expand=True)\n",
    "    newcols = ['kingdom', 'phylum', 'class', 'order', \n",
    "               'family', 'genus', 'species', 'denovo']\n",
    "    phylodf.columns = newcols[:len(phylodf.columns)]\n",
    "    phylodf['otu'] = otus\n",
    "    \n",
    "    # If genus is 'g__Other', add the phylum designation to the g__Other string\n",
    "    phylodf['genus'] = phylodf.apply(lambda row: row['phylum'] + ';' + row['genus'] \n",
    "                                     if row['genus'] == 'g__Other'\n",
    "                                     else row['genus'],\n",
    "                                     axis=1)\n",
    "    \n",
    "    ## Set1 color palette\n",
    "    colors = sns.color_palette('Set1', 9)\n",
    "    \n",
    "    ## Manually set the Set1 index for each phylum\n",
    "    # red (proteo), blue (bacteroides), green (actino), purple (firmicutes),\n",
    "    # orange (fuso), yellow, brown (eury), pink (verruco),\n",
    "    # pink (teneri, cyano, lenti, synerg), gray (p__)\n",
    "    # this color dict is for 'Set1' color palette\n",
    "    color_dict = {'p__Acidobacteria': 7,\n",
    "                  'p__Actinobacteria': 2,\n",
    "                  'p__Bacteroidetes': 1,\n",
    "                  'p__Candidatus_Saccharibacteria': 7,\n",
    "                  'p__Chlamydiae': 7,\n",
    "                  'p__Cyanobacteria/Chloroplast': 7,\n",
    "                  'p__Euryarchaeota': 7,\n",
    "                  'p__Firmicutes': 3,\n",
    "                  'p__Fusobacteria': 4,\n",
    "                  'p__Proteobacteria': 0,\n",
    "                  'p__SR1': 7,\n",
    "                  'p__Spirochaetes': 7,\n",
    "                  'p__Tenericutes': 7,\n",
    "                  'p__Verrucomicrobia': 7,\n",
    "                  'p__': 8}\n",
    "\n",
    "    # Convert Set1 index to its corresponding RGB value\n",
    "    color_dict = {i: colors[color_dict[i]] for i in color_dict}\n",
    "\n",
    "    ## Check that all phyla in phylodf have a color\n",
    "    missingphyla = [i for i in phylodf['phylum'].unique()\n",
    "                    if i not in color_dict]\n",
    "    if len(missingphyla) > 0:\n",
    "        print('You need to give the following phyla colors in get_phylo_colors():')\n",
    "        print('\\n'.join(missingphyla))\n",
    "        raise ValueError\n",
    "\n",
    "    ## Give each genus a shade of the phylum color\n",
    "    for p, subdf in phylodf.groupby('phylum'):\n",
    "        # Get unique genera in that phylum (pandas unique() returns values in order of appearance)\n",
    "        genera = subdf['genus'].unique()\n",
    "\n",
    "        # Seed a light palette from the top-level phylum color.\n",
    "        genus_colors = sns.light_palette(color_dict[p], len(genera) + 2)[1:-1]\n",
    "        # Assign corresponding index in `colors` to each genus,\n",
    "        # and add to the master color_dict\n",
    "        color_dict.update(\n",
    "            {genera[i]: genus_colors[i] for i in range(len(genera))})\n",
    "\n",
    "    return phylodf, color_dict"
   ]
  },
  {
   "cell_type": "code",
   "execution_count": 8,
   "metadata": {},
   "outputs": [],
   "source": [
    "# Get the dataframe with the phylogeny\n",
    "phylodf, _ = get_phylo_colors(df.columns)"
   ]
  },
  {
   "cell_type": "code",
   "execution_count": 9,
   "metadata": {},
   "outputs": [],
   "source": [
    "# Rename any genera with less than 1% mean abundance overall as \"Other\"\n",
    "abun_thresh = 0.01\n",
    "\n",
    "# Add abundance to tidy phylodf\n",
    "abun_otus = df.mean()\n",
    "phylodf['abun'] = phylodf['otu'].apply(lambda x: abun_otus[x])\n",
    "\n",
    "# Functions to rename unlabeled and low-abundant genera as g__Other\n",
    "def otu2other(row, abun_thresh):\n",
    "    if not row['otu'].endswith('__') and row['abun'] > abun_thresh:\n",
    "        return row['otu']\n",
    "    else:\n",
    "        return row['otu'].rsplit(';', 1)[0] + ';g__Other'\n",
    "\n",
    "def genus2other(row, abun_thresh):\n",
    "    if not row['genus'].endswith('__') and row['abun'] > abun_thresh:\n",
    "        return row['genus']\n",
    "    else:\n",
    "        return row['phylum'] + ';g__Other'\n",
    "\n",
    "phylodf['otu2'] = phylodf.apply(lambda row: otu2other(row, abun_thresh), axis=1)\n",
    "phylodf['genus2'] = phylodf.apply(lambda row: genus2other(row, abun_thresh), axis=1)\n",
    "\n",
    "# Get colors for 'otu2', which has the 'g__Other' label\n",
    "_, color_dict = get_phylo_colors(phylodf['otu2'].values)"
   ]
  },
  {
   "cell_type": "code",
   "execution_count": 10,
   "metadata": {},
   "outputs": [],
   "source": [
    "## Nope, not doing this anymore... commenting out related lines for now\n",
    "### Order samples by descending order of most abundant genus in lung samples\n",
    "\n",
    "## Get mean abundance of each OTU in the lung samples\n",
    "#lung_samples = meta.query('site == \"bal\"').index\n",
    "#abun_otus = df.loc[lung_samples].median() \n",
    "\n",
    "# Set up manual ordering for phyla\n",
    "phy_order = ['p__Firmicutes',\n",
    "             'p__Proteobacteria',\n",
    "             'p__Bacteroidetes',\n",
    "             'p__Actinobacteria',\n",
    "             'p__Fusobacteria',\n",
    "             'p__Cyanobacteria/Chloroplast',\n",
    "             'p__Verrucomicrobia',\n",
    "             'p__SR1',\n",
    "             'p__Spirochaetes',\n",
    "             'p__Candidatus_Saccharibacteria',\n",
    "             'p__Tenericutes',\n",
    "             'p__Chlamydiae',\n",
    "             'p__Acidobacteria',\n",
    "             'p__Euryarchaeota']\n",
    "phylodf['phylum'] = phylodf['phylum'].astype(\"category\")\n",
    "phylodf['phylum'].cat.set_categories(phy_order, inplace=True)\n",
    "\n",
    "## Sort OTUs by abundance in the lungs, within each phylum\n",
    "#phylodf['abun'] = phylodf['otu'].apply(lambda x: abun_otus[x])\n",
    "#phylodf = phylodf.sort_values(by=['phylum', 'abun'], ascending=[False, True])\n",
    "phylodf = phylodf.sort_values(by=['phylum', 'abun'], ascending=[False, True])\n",
    "\n",
    "# Get colors for 'otu2', which has 'g__Other' label\n",
    "_, color_dict = get_phylo_colors(phylodf['otu2'].values)\n",
    "\n",
    "## Need to reverse the ordering so more abundant are on bottom\n",
    "phylodf = phylodf.sort_values(by=['phylum', 'abun'], ascending=[False, False])\n",
    "\n",
    "# Update colors with new ordering\n",
    "phylodf['color'] = phylodf['genus2'].apply(lambda x: color_dict[x])\n",
    "\n",
    "# Re-order OTU table columns accordingly\n",
    "df = df[phylodf['otu']]\n",
    "\n",
    "# Re-order rows by their abundance in each column\n",
    "df = df.sort_values(by=df.columns.tolist(), ascending=False)"
   ]
  },
  {
   "cell_type": "code",
   "execution_count": 11,
   "metadata": {},
   "outputs": [],
   "source": [
    "## Get the subjects for each aspiration type and order all samples the same\n",
    "asp = \"Aspiration/Penetration\"\n",
    "nml = \"Normal\"\n",
    "\n",
    "lung_samples = df.index.tolist()\n",
    "lung_samples = [s for s in lung_samples if meta.loc[s, 'site'] == \"bal\"]\n",
    "\n",
    "patients = [meta.loc[s, 'subject_id'] for s in lung_samples]\n",
    "\n",
    "# Get the three subgroups of patients. We'll keep these as separate lists\n",
    "# because even though it's annoying, it's actually best for interpretation\n",
    "asp_pts = meta.query('(subject_id == @patients) & (mbs_consolidated == @asp)')['subject_id'].drop_duplicates().tolist()\n",
    "nml_pts = meta.query('(subject_id == @patients) & (mbs_consolidated == @nml)')['subject_id'].drop_duplicates().tolist()\n",
    "nan_pts = meta.query('(subject_id == @patients) & (mbs_consolidated == \"nan\")')['subject_id'].drop_duplicates().tolist()\n",
    "\n",
    "bal_asp = [meta.query('(subject_id == @s) & (site == \"bal\")').index[0] for s in asp_pts]\n",
    "bal_nml = [meta.query('(subject_id == @s) & (site == \"bal\")').index[0] for s in nml_pts]\n",
    "bal_nan = [meta.query('(subject_id == @s) & (site == \"bal\")').index[0] for s in nan_pts]\n",
    "\n",
    "gas_asp = [meta.query('(subject_id == @s) & (site == \"gastric_fluid\")').index[0] for s in asp_pts]\n",
    "gas_nml = [meta.query('(subject_id == @s) & (site == \"gastric_fluid\")').index[0] for s in nml_pts]\n",
    "gas_nan = [meta.query('(subject_id == @s) & (site == \"gastric_fluid\")').index[0] for s in nan_pts]\n",
    "\n",
    "thr_asp = [meta.query('(subject_id == @s) & (site == \"throat_swab\")').index[0] for s in asp_pts]\n",
    "thr_nml = [meta.query('(subject_id == @s) & (site == \"throat_swab\")').index[0] for s in nml_pts]\n",
    "thr_nan = [meta.query('(subject_id == @s) & (site == \"throat_swab\")').index[0] for s in nan_pts]"
   ]
  },
  {
   "cell_type": "code",
   "execution_count": 12,
   "metadata": {},
   "outputs": [
    {
     "name": "stdout",
     "output_type": "stream",
     "text": [
      "['Aspiration/Penetration']\n",
      "03-121-5, 03-124-8, 04-054-3, 04-064-5, 04-072-1, 04-077-1, 04-112-4, 04-133-5, 04-138-4, 04-139-5\n",
      "03-121-5B, 03-124-8B, 04-054-3B, 04-064-5B, 04-072-1B, 04-077-1B, 04-112-4B, 04-133-5B, 04-138-4B, 04-139-5B\n",
      "03-121-5G, 03-124-8G, 04-054-3G, 04-064-5G, 04-072-1G, 04-077-1G, 04-112-4G, 04-133-5G, 04-138-4G, 04-139-5G\n",
      "03-121-5T, 03-124-8T, 04-054-3T, 04-064-5T, 04-072-1T, 04-077-1T, 04-112-4T, 04-133-5T, 04-138-4T, 04-139-5T\n",
      "['Normal']\n",
      "02-098-5, 02-120-4, 03-105-2, 03-122-5, 03-123-6, 04-061-8, 04-063-7, 04-066-0, 04-071-9, 04-074-1\n",
      "02-098-5B, 02-120-4B, 03-105-2B, 03-122-5B, 03-123-6B, 04-061-8B, 04-063-7B, 04-066-0B, 04-071-9B, 04-074-1B\n",
      "02-098-5G, 02-120-4G, 03-105-2G, 03-122-5G, 03-123-6G, 04-061-8G, 04-063-7G, 04-066-0G, 04-071-9G, 04-074-1G\n",
      "02-098-5T, 02-120-4T, 03-105-2T, 03-122-5T, 03-123-6T, 04-061-8T, 04-063-7T, 04-066-0T, 04-071-9T, 04-074-1T\n",
      "['nan']\n",
      "02-099-7, 02-118-7, 03-108-5, 03-112-5, 03-113-4, 03-119-5, 03-137-6, 04-062-8, 04-067-2, 04-075-8\n",
      "02-099-7B, 02-118-7B, 03-108-5B, 03-112-5B, 03-113-4B, 03-119-5B, 03-137-6B, 04-062-8B, 04-067-2B, 04-075-8B\n",
      "02-099-7G, 02-118-7G, 03-108-5G, 03-112-5G, 03-113-4G, 03-119-5G, 03-137-6G, 04-062-8G, 04-067-2G, 04-075-8G\n",
      "02-099-7T, 02-118-7T, 03-108-5T, 03-112-5T, 03-113-4T, 03-119-5T, 03-137-6T, 04-062-8T, 04-067-2T, 04-075-8T\n"
     ]
    }
   ],
   "source": [
    "# Sanity check: patients should be in the same order\n",
    "print(meta.query('subject_id == @asp_pts')['mbs_consolidated'].unique())\n",
    "print(', '.join(asp_pts[0:10]))\n",
    "print(', '.join(bal_asp[0:10]))\n",
    "print(', '.join(gas_asp[0:10]))\n",
    "print(', '.join(thr_asp[0:10]))\n",
    "\n",
    "print(meta.query('subject_id == @nml_pts')['mbs_consolidated'].unique())\n",
    "print(', '.join(nml_pts[0:10]))\n",
    "print(', '.join(bal_nml[0:10]))\n",
    "print(', '.join(gas_nml[0:10]))\n",
    "print(', '.join(thr_nml[0:10]))\n",
    "\n",
    "print(meta.query('subject_id == @nan_pts')['mbs_consolidated'].unique())\n",
    "print(', '.join(nan_pts[0:10]))\n",
    "print(', '.join(bal_nan[0:10]))\n",
    "print(', '.join(gas_nan[0:10]))\n",
    "print(', '.join(thr_nan[0:10]))"
   ]
  },
  {
   "cell_type": "code",
   "execution_count": 13,
   "metadata": {},
   "outputs": [
    {
     "name": "stdout",
     "output_type": "stream",
     "text": [
      "[19, 23, 24]\n"
     ]
    },
    {
     "data": {
      "image/png": "[encoded data removed]",
      "text/plain": [
       "<Figure size 1008x432 with 12 Axes>"
      ]
     },
     "metadata": {
      "needs_background": "light"
     },
     "output_type": "display_data"
    }
   ],
   "source": [
    "## Stacked bar plot of all three sitse\n",
    "\n",
    "# Number of patients to plot\n",
    "#N = [5, 7, 10]\n",
    "N = [len(nml_pts), len(asp_pts), len(nan_pts)]\n",
    "print(N)\n",
    "\n",
    "# Set up aspiration colors\n",
    "aspdict = {'Normal': '#B25116', 'Aspiration/Penetration': '#FB84D1', 'nan': '#C9C9C9'}\n",
    "asplst = ['Normal', 'Aspiration/Penetration', 'nan']\n",
    "\n",
    "## Set up figure\n",
    "fig = plt.figure(figsize=(14, 6))\n",
    "sns.set_style('white')\n",
    "\n",
    "# One gridspec on top with 3 subplots (stacked barplots)\n",
    "gs_plots = gridspec.GridSpec(3, sum(N), top=0.95, bottom=0.12, wspace=0.5)\n",
    "# One on bottom with 1 subplot (aspiration status)\n",
    "gs_asp = gridspec.GridSpec(1, sum(N), top=0.08, bottom=0.05)\n",
    "\n",
    "# Set up the samples I'm going to plot\n",
    "smpls = {'Lung (BAL)': [bal_asp, bal_nml, bal_nan],\n",
    "         'Gastric fluid': [gas_asp, gas_nml, gas_nan], \n",
    "         'Oropharyngeal swab': [thr_asp, thr_nml, thr_nan]}\n",
    "i = 0\n",
    "site_names = ['Lung (BAL)', 'Gastric fluid', 'Oropharyngeal swab']\n",
    "for name in site_names:\n",
    "    # a is the index of [asp, nml, nan]\n",
    "    # order is hard-coded in asplst and N above - these need to match!\n",
    "    start_idx = 0\n",
    "    for a in [0, 1, 2]:\n",
    "        ## Plot phylogeny bar plots\n",
    "        smpl_lst = smpls[name][a][:N[a]]\n",
    "        #print(name, a, len(lst))\n",
    "        #print(', '.join(lst))\n",
    "        ax = plt.subplot(gs_plots[i, start_idx:start_idx+len(smpl_lst)])\n",
    "        # Stacked bar plot from df with samples in rows, OTUs in columns\n",
    "        df.loc[smpl_lst].plot(ax=ax, kind='bar', stacked=True,\n",
    "                         color=phylodf['color'], legend=False,\n",
    "                         width=1.0, edgecolor=\"none\")\n",
    "\n",
    "        ax.set_ylim([0, 1])\n",
    "        ax.set_yticklabels('')\n",
    "        ax.set_xticklabels('')\n",
    "        sns.despine(ax=ax, left=True)\n",
    "        #ax.set_title(name)\n",
    "        \n",
    "        ## Plot aspiration status at the end\n",
    "        if name == site_names[-1]:\n",
    "            ax = plt.subplot(gs_asp[start_idx:start_idx+len(smpl_lst)])\n",
    "\n",
    "            # Make dummy dataframe so I can use the same pandas function to plot\n",
    "            aspdf = pd.DataFrame({'color': asplst[a], 'dummy': [1]*len(smpl_lst)})\n",
    "            # Plot aspiration status\n",
    "            aspdf['dummy'].plot(ax=ax, kind='bar', color=aspdict[asplst[a]], \n",
    "                                width=1.0, edgecolor='none')\n",
    "\n",
    "            # Get rid of all labels\n",
    "            ax.set_xticklabels('')\n",
    "            ax.set_yticklabels('')\n",
    "            ax.set_xlabel('')\n",
    "            sns.despine(ax=ax, left=True, bottom=True)\n",
    "\n",
    "        ## Update new (horizontal) start index for next subplot\n",
    "        start_idx += len(smpl_lst)\n",
    "    i += 1\n"
   ]
  },
  {
   "cell_type": "code",
   "execution_count": 14,
   "metadata": {},
   "outputs": [],
   "source": [
    "fig.savefig('../../final/figures/figure1.overview_barplots.png', dpi=200)\n",
    "fig.savefig('../../final/figures/figure1.overview_barplots.pdf', dpi=500)"
   ]
  },
  {
   "cell_type": "markdown",
   "metadata": {},
   "source": [
    "## Legend\n",
    "\n",
    "Make the legend. What I want is to show the top genera in each phylum, and plot one legend for each phylum titled by the phylum."
   ]
  },
  {
   "cell_type": "code",
   "execution_count": 15,
   "metadata": {},
   "outputs": [],
   "source": [
    "top_phyla = ['p__Firmicutes', 'p__Proteobacteria', 'p__Bacteroidetes', 'p__Actinobacteria', 'p__Fusobacteria']"
   ]
  },
  {
   "cell_type": "markdown",
   "metadata": {},
   "source": [
    "Try plotting legends with gridspec. We'll have:\n",
    "\n",
    "```\n",
    "|Firmicutes | Proteobacteria | Bacteroidetes  | Fusobacteria |   \n",
    "|           |                | Actinobacteria |              |   \n",
    "```\n",
    "\n",
    "Other will be in the caption.\n"
   ]
  },
  {
   "cell_type": "code",
   "execution_count": 16,
   "metadata": {},
   "outputs": [],
   "source": [
    "def plot_one_legend(p, ax, phylodf, color_dict):\n",
    "    # Get unique genera in that phylum\n",
    "    genera = phylodf.query('phylum == @p')['genus2'].unique().tolist()\n",
    "\n",
    "    # Re-order genera so the p__;g__Other one is last\n",
    "    idx = genera.index([i for i in genera if i.endswith('Other')][0])\n",
    "    genera = genera[:idx] + genera[idx+1:] + [genera[idx]]\n",
    "    # Reverse the order so darkest is on top\n",
    "    genera = genera[::-1]\n",
    "\n",
    "    # make dummy data for easy plotting\n",
    "    colordf = pd.DataFrame({'genus2': genera, 'color': [color_dict[i] for i in genera]})\n",
    "    colordf['dummy'] = 1\n",
    "\n",
    "    # Plot\n",
    "    colordf['dummy'].plot(kind='barh', color=colordf['color'], ax=ax,\n",
    "                         width=0.8)\n",
    "\n",
    "\n",
    "    # Adjust labels, etc\n",
    "    sns.despine(ax=ax, left=True, bottom=True)\n",
    "    ax.set_xticks([])\n",
    "\n",
    "    labels = [i[3:] if not i.startswith('p__') else 'Other' for i in genera]\n",
    "    ax.yaxis.tick_right()\n",
    "    ax.yaxis.set_label_position('right')\n",
    "    ax.set_yticklabels(labels, fontsize=22)\n",
    "\n",
    "    ax.set_title(p[3:], fontsize=24, color=color_dict[p], loc='left')\n"
   ]
  },
  {
   "cell_type": "code",
   "execution_count": 17,
   "metadata": {},
   "outputs": [
    {
     "data": {
      "image/png": "[encoded data removed]",
      "text/plain": [
       "<Figure size 1008x288 with 5 Axes>"
      ]
     },
     "metadata": {},
     "output_type": "display_data"
    }
   ],
   "source": [
    "sns.set_style('white')\n",
    "fig = plt.figure(figsize=(14, 4))\n",
    "\n",
    "# 10 pixels per height of box, 4 pixels width, 22 between\n",
    "h = 0.1\n",
    "w = 0.04\n",
    "btw = 0.21\n",
    "\n",
    "l = 0.05\n",
    "r = l + w\n",
    "t = 0.85\n",
    "b = t - 7*h\n",
    "\n",
    "p = 'p__Firmicutes'\n",
    "gs_firm = gridspec.GridSpec(1, 1, left=l, right=r, top=t, bottom=b)\n",
    "ax_firm = plt.subplot(gs_firm[0])\n",
    "plot_one_legend(p, ax_firm, phylodf, color_dict)\n",
    "\n",
    "\n",
    "l = r + btw\n",
    "r = l + w\n",
    "b = t - 6*h\n",
    "p = 'p__Proteobacteria'\n",
    "gs_proteo = gridspec.GridSpec(1, 1, left=l, right=r, top=t, bottom=b)\n",
    "ax_proteo = plt.subplot(gs_proteo[0])\n",
    "plot_one_legend(p, ax_proteo, phylodf, color_dict)\n",
    "\n",
    "l = r + btw\n",
    "r = l + w\n",
    "b = t - 4*h\n",
    "p = 'p__Bacteroidetes'\n",
    "gs_bacter = gridspec.GridSpec(1, 1, left=l, right=r, top=t, bottom=b)\n",
    "ax_bacter = plt.subplot(gs_bacter[0])\n",
    "plot_one_legend(p, ax_bacter, phylodf, color_dict)\n",
    "\n",
    "t = b - btw/1.5\n",
    "b = t - 2*h\n",
    "p = 'p__Actinobacteria'\n",
    "gs_actino = gridspec.GridSpec(1, 1, left=l, right=r, top=t, bottom=b)\n",
    "ax_actino = plt.subplot(gs_actino[0])\n",
    "plot_one_legend(p, ax_actino, phylodf, color_dict)\n",
    "\n",
    "l = r + btw\n",
    "r = l + w\n",
    "t = 0.85\n",
    "b = t - 3*h\n",
    "p = 'p__Fusobacteria'\n",
    "gs_fuso = gridspec.GridSpec(1, 1, left=l, right=r, top=t, bottom=b)\n",
    "ax_fuso = plt.subplot(gs_fuso[0])\n",
    "plot_one_legend(p, ax_fuso, phylodf, color_dict)"
   ]
  },
  {
   "cell_type": "code",
   "execution_count": 21,
   "metadata": {},
   "outputs": [],
   "source": [
    "fig.savefig('../../final/figures/figure1.legend_all.png', dpi=200)\n",
    "fig.savefig('../../final/figures/figure1.legend_all.pdf', dpi=200)"
   ]
  },
  {
   "cell_type": "markdown",
   "metadata": {
    "collapsed": true
   },
   "source": [
    "## Track samples"
   ]
  },
  {
   "cell_type": "code",
   "execution_count": 19,
   "metadata": {},
   "outputs": [],
   "source": [
    "all_smpls = bal_asp + bal_nml + bal_nan \\\n",
    "    + gas_asp + gas_nml + gas_nan \\\n",
    "    + thr_asp + thr_nml + thr_nan\n",
    "\n",
    "with open('../../data/patients/figure1.overview_plots.samples.txt', 'w') as f:\n",
    "    f.write('\\n'.join(all_smpls))"
   ]
  },
  {
   "cell_type": "code",
   "execution_count": null,
   "metadata": {},
   "outputs": [],
   "source": []
  }
 ],
 "metadata": {
  "anaconda-cloud": {},
  "kernelspec": {
   "display_name": "Python [default]",
   "language": "python",
   "name": "python2"
  },
  "language_info": {
   "codemirror_mode": {
    "name": "ipython",
    "version": 2
   },
   "file_extension": ".py",
   "mimetype": "text/x-python",
   "name": "python",
   "nbconvert_exporter": "python",
   "pygments_lexer": "ipython2",
   "version": "2.7.15"
  }
 },
 "nbformat": 4,
 "nbformat_minor": 2
}
