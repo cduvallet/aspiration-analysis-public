{
 "cells": [
  {
   "cell_type": "markdown",
   "metadata": {},
   "source": [
    "This notebook calculates the correlation between reflux variables and lung-gastric beta diversity and makes the respective figure."
   ]
  },
  {
   "cell_type": "code",
   "execution_count": 1,
   "metadata": {},
   "outputs": [],
   "source": [
    "import pandas as pd\n",
    "import numpy as np\n",
    "\n",
    "import matplotlib.pyplot as plt\n",
    "import seaborn as sns\n",
    "%matplotlib inline"
   ]
  },
  {
   "cell_type": "markdown",
   "metadata": {},
   "source": [
    "# Prepare data\n",
    "\n",
    "First, we'll massage the tidy JSD file such that the reflux metadata is also in tidy format. Currently, the different reflux metrics are each their own column. For easier plotting, we'll make variable and value columns where the variable is the type of reflux metric and the value is the value for that type of reflux metric."
   ]
  },
  {
   "cell_type": "code",
   "execution_count": 2,
   "metadata": {},
   "outputs": [
    {
     "name": "stderr",
     "output_type": "stream",
     "text": [
      "/Users/claire/anaconda/lib/python2.7/site-packages/IPython/core/interactiveshell.py:2714: DtypeWarning: Columns (16,17) have mixed types. Specify dtype option on import or set low_memory=False.\n",
      "  interactivity=interactivity, compiler=compiler, result=result)\n"
     ]
    },
    {
     "name": "stdout",
     "output_type": "stream",
     "text": [
      "(103285, 36)\n",
      "Index([u'sample1', u'sample2', u'beta', u'site1', u'site2', u'site_comparison',\n",
      "       u'patient_comp', u'subject', u'batch1', u'batch2',\n",
      "       u'Results of MBS closest to enrollment date', u'Results of worst MBS',\n",
      "       u'mbs_consolidated', u'ppi_consolidated', u'Patient taking PPI',\n",
      "       u'Patient taking PPI?', u'ACIDSUP',\n",
      "       u'Reflux - total number of episodes', u'Number of acid reflux episodes',\n",
      "       u'Total number of reflux episodes (acid+non-acid)', u'SI - Reflux',\n",
      "       u'SSI - Reflux', u'SAP - Reflux', u'Number of non-acid reflux episodes',\n",
      "       u'percent distal nonacid', u'percent proximal total',\n",
      "       u'percent distal acid', u'percent proximal acid',\n",
      "       u'percent proximal nonacid', u'percent distal total',\n",
      "       u'number of full colum events/total events',\n",
      "       u'Number of full column episodes', u'Was Bile CA detected?',\n",
      "       u'Was Bile DCA detected?', u'Was Bile LCA detected?',\n",
      "       u'Was Bile TCA detected?'],\n",
      "      dtype='object')\n"
     ]
    },
    {
     "data": {
      "text/html": [
       "<div>\n",
       "<style scoped>\n",
       "    .dataframe tbody tr th:only-of-type {\n",
       "        vertical-align: middle;\n",
       "    }\n",
       "\n",
       "    .dataframe tbody tr th {\n",
       "        vertical-align: top;\n",
       "    }\n",
       "\n",
       "    .dataframe thead th {\n",
       "        text-align: right;\n",
       "    }\n",
       "</style>\n",
       "<table border=\"1\" class=\"dataframe\">\n",
       "  <thead>\n",
       "    <tr style=\"text-align: right;\">\n",
       "      <th></th>\n",
       "      <th>sample1</th>\n",
       "      <th>sample2</th>\n",
       "      <th>beta</th>\n",
       "      <th>site1</th>\n",
       "      <th>site2</th>\n",
       "      <th>site_comparison</th>\n",
       "      <th>patient_comp</th>\n",
       "      <th>subject</th>\n",
       "      <th>batch1</th>\n",
       "      <th>batch2</th>\n",
       "      <th>...</th>\n",
       "      <th>percent distal acid</th>\n",
       "      <th>percent proximal acid</th>\n",
       "      <th>percent proximal nonacid</th>\n",
       "      <th>percent distal total</th>\n",
       "      <th>number of full colum events/total events</th>\n",
       "      <th>Number of full column episodes</th>\n",
       "      <th>Was Bile CA detected?</th>\n",
       "      <th>Was Bile DCA detected?</th>\n",
       "      <th>Was Bile LCA detected?</th>\n",
       "      <th>Was Bile TCA detected?</th>\n",
       "    </tr>\n",
       "  </thead>\n",
       "  <tbody>\n",
       "    <tr>\n",
       "      <th>0</th>\n",
       "      <td>01-112-7GI</td>\n",
       "      <td>01-112-7RI</td>\n",
       "      <td>0.400324</td>\n",
       "      <td>gastric_fluid</td>\n",
       "      <td>rectal_swab</td>\n",
       "      <td>gastric_fluid-rectal_swab</td>\n",
       "      <td>within</td>\n",
       "      <td>01-112-7</td>\n",
       "      <td>2016</td>\n",
       "      <td>2016</td>\n",
       "      <td>...</td>\n",
       "      <td>NaN</td>\n",
       "      <td>NaN</td>\n",
       "      <td>NaN</td>\n",
       "      <td>NaN</td>\n",
       "      <td>NaN</td>\n",
       "      <td>NaN</td>\n",
       "      <td>NaN</td>\n",
       "      <td>NaN</td>\n",
       "      <td>NaN</td>\n",
       "      <td>NaN</td>\n",
       "    </tr>\n",
       "    <tr>\n",
       "      <th>1</th>\n",
       "      <td>01-112-7GI</td>\n",
       "      <td>01-112-7TI</td>\n",
       "      <td>0.993353</td>\n",
       "      <td>gastric_fluid</td>\n",
       "      <td>throat_swab</td>\n",
       "      <td>gastric_fluid-throat_swab</td>\n",
       "      <td>within</td>\n",
       "      <td>01-112-7</td>\n",
       "      <td>2016</td>\n",
       "      <td>2016</td>\n",
       "      <td>...</td>\n",
       "      <td>NaN</td>\n",
       "      <td>NaN</td>\n",
       "      <td>NaN</td>\n",
       "      <td>NaN</td>\n",
       "      <td>NaN</td>\n",
       "      <td>NaN</td>\n",
       "      <td>NaN</td>\n",
       "      <td>NaN</td>\n",
       "      <td>NaN</td>\n",
       "      <td>NaN</td>\n",
       "    </tr>\n",
       "    <tr>\n",
       "      <th>2</th>\n",
       "      <td>01-112-7GI</td>\n",
       "      <td>01-164-7GI</td>\n",
       "      <td>0.994055</td>\n",
       "      <td>gastric_fluid</td>\n",
       "      <td>gastric_fluid</td>\n",
       "      <td>gastric_fluid-gastric_fluid</td>\n",
       "      <td>between</td>\n",
       "      <td>NaN</td>\n",
       "      <td>2016</td>\n",
       "      <td>2016</td>\n",
       "      <td>...</td>\n",
       "      <td>NaN</td>\n",
       "      <td>NaN</td>\n",
       "      <td>NaN</td>\n",
       "      <td>NaN</td>\n",
       "      <td>NaN</td>\n",
       "      <td>NaN</td>\n",
       "      <td>NaN</td>\n",
       "      <td>NaN</td>\n",
       "      <td>NaN</td>\n",
       "      <td>NaN</td>\n",
       "    </tr>\n",
       "    <tr>\n",
       "      <th>3</th>\n",
       "      <td>01-112-7GI</td>\n",
       "      <td>01-164-7RI</td>\n",
       "      <td>0.575080</td>\n",
       "      <td>gastric_fluid</td>\n",
       "      <td>rectal_swab</td>\n",
       "      <td>gastric_fluid-rectal_swab</td>\n",
       "      <td>between</td>\n",
       "      <td>NaN</td>\n",
       "      <td>2016</td>\n",
       "      <td>2016</td>\n",
       "      <td>...</td>\n",
       "      <td>NaN</td>\n",
       "      <td>NaN</td>\n",
       "      <td>NaN</td>\n",
       "      <td>NaN</td>\n",
       "      <td>NaN</td>\n",
       "      <td>NaN</td>\n",
       "      <td>NaN</td>\n",
       "      <td>NaN</td>\n",
       "      <td>NaN</td>\n",
       "      <td>NaN</td>\n",
       "    </tr>\n",
       "    <tr>\n",
       "      <th>4</th>\n",
       "      <td>01-112-7GI</td>\n",
       "      <td>01-164-7TI</td>\n",
       "      <td>0.995439</td>\n",
       "      <td>gastric_fluid</td>\n",
       "      <td>throat_swab</td>\n",
       "      <td>gastric_fluid-throat_swab</td>\n",
       "      <td>between</td>\n",
       "      <td>NaN</td>\n",
       "      <td>2016</td>\n",
       "      <td>2016</td>\n",
       "      <td>...</td>\n",
       "      <td>NaN</td>\n",
       "      <td>NaN</td>\n",
       "      <td>NaN</td>\n",
       "      <td>NaN</td>\n",
       "      <td>NaN</td>\n",
       "      <td>NaN</td>\n",
       "      <td>NaN</td>\n",
       "      <td>NaN</td>\n",
       "      <td>NaN</td>\n",
       "      <td>NaN</td>\n",
       "    </tr>\n",
       "  </tbody>\n",
       "</table>\n",
       "<p>5 rows × 36 columns</p>\n",
       "</div>"
      ],
      "text/plain": [
       "      sample1     sample2      beta          site1          site2  \\\n",
       "0  01-112-7GI  01-112-7RI  0.400324  gastric_fluid    rectal_swab   \n",
       "1  01-112-7GI  01-112-7TI  0.993353  gastric_fluid    throat_swab   \n",
       "2  01-112-7GI  01-164-7GI  0.994055  gastric_fluid  gastric_fluid   \n",
       "3  01-112-7GI  01-164-7RI  0.575080  gastric_fluid    rectal_swab   \n",
       "4  01-112-7GI  01-164-7TI  0.995439  gastric_fluid    throat_swab   \n",
       "\n",
       "               site_comparison patient_comp   subject  batch1  batch2  \\\n",
       "0    gastric_fluid-rectal_swab       within  01-112-7    2016    2016   \n",
       "1    gastric_fluid-throat_swab       within  01-112-7    2016    2016   \n",
       "2  gastric_fluid-gastric_fluid      between       NaN    2016    2016   \n",
       "3    gastric_fluid-rectal_swab      between       NaN    2016    2016   \n",
       "4    gastric_fluid-throat_swab      between       NaN    2016    2016   \n",
       "\n",
       "            ...           percent distal acid percent proximal acid  \\\n",
       "0           ...                           NaN                   NaN   \n",
       "1           ...                           NaN                   NaN   \n",
       "2           ...                           NaN                   NaN   \n",
       "3           ...                           NaN                   NaN   \n",
       "4           ...                           NaN                   NaN   \n",
       "\n",
       "  percent proximal nonacid percent distal total  \\\n",
       "0                      NaN                  NaN   \n",
       "1                      NaN                  NaN   \n",
       "2                      NaN                  NaN   \n",
       "3                      NaN                  NaN   \n",
       "4                      NaN                  NaN   \n",
       "\n",
       "  number of full colum events/total events Number of full column episodes  \\\n",
       "0                                      NaN                            NaN   \n",
       "1                                      NaN                            NaN   \n",
       "2                                      NaN                            NaN   \n",
       "3                                      NaN                            NaN   \n",
       "4                                      NaN                            NaN   \n",
       "\n",
       "  Was Bile CA detected?  Was Bile DCA detected?  Was Bile LCA detected?  \\\n",
       "0                   NaN                     NaN                     NaN   \n",
       "1                   NaN                     NaN                     NaN   \n",
       "2                   NaN                     NaN                     NaN   \n",
       "3                   NaN                     NaN                     NaN   \n",
       "4                   NaN                     NaN                     NaN   \n",
       "\n",
       "   Was Bile TCA detected?  \n",
       "0                     NaN  \n",
       "1                     NaN  \n",
       "2                     NaN  \n",
       "3                     NaN  \n",
       "4                     NaN  \n",
       "\n",
       "[5 rows x 36 columns]"
      ]
     },
     "execution_count": 2,
     "metadata": {},
     "output_type": "execute_result"
    }
   ],
   "source": [
    "fnjsd = '/Users/claire/github/aspiration-analysis/data/analysis/jsd.txt'\n",
    "\n",
    "jsd = pd.read_csv(fnjsd, sep='\\t').dropna(how='all', axis=1)\n",
    "print(jsd.shape)\n",
    "print(jsd.columns)\n",
    "jsd.head()"
   ]
  },
  {
   "cell_type": "code",
   "execution_count": 3,
   "metadata": {},
   "outputs": [],
   "source": [
    "## Metadata column edits\n",
    "\n",
    "# Note: there are additional reflux metadata columns, but these are the\n",
    "# ones with the most reliable measurements\n",
    "refluxcols = ['Total number of reflux episodes (acid+non-acid)',\n",
    "              'number of full colum events/total events',\n",
    "              'percent proximal total',\n",
    "              'percent distal total']\n",
    "# Clean up the reflux cols\n",
    "jsd[refluxcols] = jsd[refluxcols].replace('n/a', np.nan)\n",
    "jsd[refluxcols] = jsd[refluxcols].astype(float)\n",
    "# Some missing entries are wrongly entered as 1\n",
    "jsd['number of full colum events/total events'] = jsd['number of full colum events/total events'].replace(1, np.nan)\n",
    "\n",
    "# And replace nan's with \"nan\" strings for aspiration status\n",
    "jsd['mbs_consolidated'] = jsd['mbs_consolidated'].fillna('Not tested')"
   ]
  },
  {
   "cell_type": "code",
   "execution_count": 4,
   "metadata": {},
   "outputs": [],
   "source": [
    "# Multiple the percent columns by 100 to get into values of percentage\n",
    "jsd['percent proximal total'] = 100*jsd['percent proximal total']\n",
    "jsd['percent distal total'] = 100*jsd['percent distal total']"
   ]
  },
  {
   "cell_type": "code",
   "execution_count": 5,
   "metadata": {},
   "outputs": [
    {
     "name": "stdout",
     "output_type": "stream",
     "text": [
      "(307, 36)\n"
     ]
    }
   ],
   "source": [
    "## Only consider within-patient comparisons\n",
    "jsd = jsd.query('patient_comp == \"within\"')\n",
    "\n",
    "## Keep only comparisons from the same time point\n",
    "jsd = jsd[\n",
    "    ~(  jsd['sample1'].str.endswith('F') \n",
    "      | jsd['sample2'].str.endswith('F')\n",
    "      | jsd['sample1'].str.endswith('2')\n",
    "      | jsd['sample2'].str.endswith('2')\n",
    "      | jsd['sample1'].str.endswith('F2T')\n",
    "      | jsd['sample2'].str.endswith('F2T')\n",
    "      | jsd['sample1'].str.endswith('sick')\n",
    "      | jsd['sample2'].str.endswith('sick')\n",
    "      | jsd['sample1'].str.startswith('05')\n",
    "      | jsd['sample2'].str.startswith('05')\n",
    "     )]\n",
    "\n",
    "print(jsd.shape)"
   ]
  },
  {
   "cell_type": "markdown",
   "metadata": {},
   "source": [
    "Like I mentioned in the PCA notebook, I've moved these checks into the actual JSD calculation script. I'll leave this here though, just for future sanity check. The code that does this is in `src/analysis/jsd.py`:\n",
    "\n",
    "```\n",
    "# Don't include samples from second time point or lung transplants\n",
    "exclude = ['2', 'F', 'sick', 'F2T']\n",
    "for s in exclude:\n",
    "    samples = [i for i in samples if not i.endswith(s)]\n",
    "samples = [i for i in samples if not i.startswith('05')]\n",
    "```"
   ]
  },
  {
   "cell_type": "code",
   "execution_count": 6,
   "metadata": {},
   "outputs": [
    {
     "data": {
      "text/html": [
       "<div>\n",
       "<style scoped>\n",
       "    .dataframe tbody tr th:only-of-type {\n",
       "        vertical-align: middle;\n",
       "    }\n",
       "\n",
       "    .dataframe tbody tr th {\n",
       "        vertical-align: top;\n",
       "    }\n",
       "\n",
       "    .dataframe thead th {\n",
       "        text-align: right;\n",
       "    }\n",
       "</style>\n",
       "<table border=\"1\" class=\"dataframe\">\n",
       "  <thead>\n",
       "    <tr style=\"text-align: right;\">\n",
       "      <th></th>\n",
       "      <th>sample1</th>\n",
       "      <th>sample2</th>\n",
       "      <th>beta</th>\n",
       "      <th>site1</th>\n",
       "      <th>site2</th>\n",
       "      <th>site_comparison</th>\n",
       "      <th>patient_comp</th>\n",
       "      <th>subject</th>\n",
       "      <th>batch1</th>\n",
       "      <th>batch2</th>\n",
       "      <th>mbs_consolidated</th>\n",
       "      <th>reflux_type</th>\n",
       "      <th>reflux_value</th>\n",
       "    </tr>\n",
       "  </thead>\n",
       "  <tbody>\n",
       "    <tr>\n",
       "      <th>21</th>\n",
       "      <td>02-096-6G</td>\n",
       "      <td>02-096-6T</td>\n",
       "      <td>0.944147</td>\n",
       "      <td>gastric_fluid</td>\n",
       "      <td>throat_swab</td>\n",
       "      <td>gastric_fluid-throat_swab</td>\n",
       "      <td>within</td>\n",
       "      <td>02-096-6</td>\n",
       "      <td>2014</td>\n",
       "      <td>2014</td>\n",
       "      <td>Normal</td>\n",
       "      <td>Total number of reflux episodes (acid+non-acid)</td>\n",
       "      <td>54.0</td>\n",
       "    </tr>\n",
       "    <tr>\n",
       "      <th>22</th>\n",
       "      <td>02-098-5B</td>\n",
       "      <td>02-098-5G</td>\n",
       "      <td>0.243337</td>\n",
       "      <td>bal</td>\n",
       "      <td>gastric_fluid</td>\n",
       "      <td>bal-gastric_fluid</td>\n",
       "      <td>within</td>\n",
       "      <td>02-098-5</td>\n",
       "      <td>2014</td>\n",
       "      <td>2014</td>\n",
       "      <td>Normal</td>\n",
       "      <td>Total number of reflux episodes (acid+non-acid)</td>\n",
       "      <td>66.0</td>\n",
       "    </tr>\n",
       "    <tr>\n",
       "      <th>23</th>\n",
       "      <td>02-098-5B</td>\n",
       "      <td>02-098-5T</td>\n",
       "      <td>0.975509</td>\n",
       "      <td>bal</td>\n",
       "      <td>throat_swab</td>\n",
       "      <td>bal-throat_swab</td>\n",
       "      <td>within</td>\n",
       "      <td>02-098-5</td>\n",
       "      <td>2014</td>\n",
       "      <td>2014</td>\n",
       "      <td>Normal</td>\n",
       "      <td>Total number of reflux episodes (acid+non-acid)</td>\n",
       "      <td>66.0</td>\n",
       "    </tr>\n",
       "    <tr>\n",
       "      <th>24</th>\n",
       "      <td>02-098-5G</td>\n",
       "      <td>02-098-5T</td>\n",
       "      <td>0.981589</td>\n",
       "      <td>gastric_fluid</td>\n",
       "      <td>throat_swab</td>\n",
       "      <td>gastric_fluid-throat_swab</td>\n",
       "      <td>within</td>\n",
       "      <td>02-098-5</td>\n",
       "      <td>2014</td>\n",
       "      <td>2014</td>\n",
       "      <td>Normal</td>\n",
       "      <td>Total number of reflux episodes (acid+non-acid)</td>\n",
       "      <td>66.0</td>\n",
       "    </tr>\n",
       "    <tr>\n",
       "      <th>25</th>\n",
       "      <td>02-099-7B</td>\n",
       "      <td>02-099-7G</td>\n",
       "      <td>0.286062</td>\n",
       "      <td>bal</td>\n",
       "      <td>gastric_fluid</td>\n",
       "      <td>bal-gastric_fluid</td>\n",
       "      <td>within</td>\n",
       "      <td>02-099-7</td>\n",
       "      <td>2014</td>\n",
       "      <td>2014</td>\n",
       "      <td>Not tested</td>\n",
       "      <td>Total number of reflux episodes (acid+non-acid)</td>\n",
       "      <td>25.0</td>\n",
       "    </tr>\n",
       "  </tbody>\n",
       "</table>\n",
       "</div>"
      ],
      "text/plain": [
       "      sample1    sample2      beta          site1          site2  \\\n",
       "21  02-096-6G  02-096-6T  0.944147  gastric_fluid    throat_swab   \n",
       "22  02-098-5B  02-098-5G  0.243337            bal  gastric_fluid   \n",
       "23  02-098-5B  02-098-5T  0.975509            bal    throat_swab   \n",
       "24  02-098-5G  02-098-5T  0.981589  gastric_fluid    throat_swab   \n",
       "25  02-099-7B  02-099-7G  0.286062            bal  gastric_fluid   \n",
       "\n",
       "              site_comparison patient_comp   subject  batch1  batch2  \\\n",
       "21  gastric_fluid-throat_swab       within  02-096-6    2014    2014   \n",
       "22          bal-gastric_fluid       within  02-098-5    2014    2014   \n",
       "23            bal-throat_swab       within  02-098-5    2014    2014   \n",
       "24  gastric_fluid-throat_swab       within  02-098-5    2014    2014   \n",
       "25          bal-gastric_fluid       within  02-099-7    2014    2014   \n",
       "\n",
       "   mbs_consolidated                                      reflux_type  \\\n",
       "21           Normal  Total number of reflux episodes (acid+non-acid)   \n",
       "22           Normal  Total number of reflux episodes (acid+non-acid)   \n",
       "23           Normal  Total number of reflux episodes (acid+non-acid)   \n",
       "24           Normal  Total number of reflux episodes (acid+non-acid)   \n",
       "25       Not tested  Total number of reflux episodes (acid+non-acid)   \n",
       "\n",
       "    reflux_value  \n",
       "21          54.0  \n",
       "22          66.0  \n",
       "23          66.0  \n",
       "24          66.0  \n",
       "25          25.0  "
      ]
     },
     "execution_count": 6,
     "metadata": {},
     "output_type": "execute_result"
    }
   ],
   "source": [
    "idvars = ['sample1', 'sample2', 'beta', 'site1', 'site2', \n",
    "          'site_comparison', 'patient_comp', 'subject', \n",
    "          'batch1', 'batch2', 'mbs_consolidated']\n",
    "tidyjsd = pd.melt(jsd, value_vars=refluxcols, \n",
    "                  var_name='reflux_type', value_name='reflux_value',\n",
    "                  id_vars=idvars)\n",
    "tidyjsd.dropna().head()"
   ]
  },
  {
   "cell_type": "markdown",
   "metadata": {},
   "source": [
    "# Make plot"
   ]
  },
  {
   "cell_type": "code",
   "execution_count": 7,
   "metadata": {},
   "outputs": [],
   "source": [
    "asp_colors = {'Normal': '#B25116', 'Aspiration/Penetration': '#FB84D1', 'Not tested': '#C9C9C9'}\n",
    "hue_order = ['Normal', 'Aspiration/Penetration', 'Not tested']\n",
    "\n",
    "# Only interested in the bal-gastric relationship\n",
    "toplot = tidyjsd.query('site_comparison == \"bal-gastric_fluid\"')\n",
    "\n",
    "# And drop any samples without the reflux actually measured\n",
    "toplot = toplot.dropna(subset=['beta', 'reflux_value'])"
   ]
  },
  {
   "cell_type": "code",
   "execution_count": 8,
   "metadata": {},
   "outputs": [
    {
     "data": {
      "image/png": "[encoded data removed]",
      "text/plain": [
       "<Figure size 648x432 with 4 Axes>"
      ]
     },
     "metadata": {},
     "output_type": "display_data"
    }
   ],
   "source": [
    "sns.set_style('ticks')\n",
    "g = sns.FacetGrid(\n",
    "    data=toplot, \n",
    "    col='reflux_type', col_wrap=2, \n",
    "    hue='mbs_consolidated', hue_order=hue_order,\n",
    "    sharex=False, legend_out=True, palette=asp_colors,\n",
    "    aspect=1.5)\n",
    "scatter_kwargs = {'s' : 35, 'edgecolors': '0.25'}\n",
    "g.map(plt.scatter, 'reflux_value', 'beta', **scatter_kwargs).set_titles(\"{col_name}\")\n",
    "\n",
    "# Axes limits\n",
    "g.facet_axis(0, 0).set_xlim([-5, 155])\n",
    "g.facet_axis(0, 1).set_xlim([0, 1.1])\n",
    "#g.facet_axis(0, 2).set_xlim([-0.002, 0.024])\n",
    "#g.facet_axis(0, 3).set_xlim([-0.002, 0.049])\n",
    "\n",
    "# X and Y axis labels\n",
    "g.facet_axis(0, 0).set_ylabel('Jensen-Shannon distance', fontsize='large')\n",
    "g.facet_axis(0, 2).set_ylabel('Jensen-Shannon distance', fontsize='large')\n",
    "\n",
    "g.facet_axis(0, 2).set_xlabel('')\n",
    "g.facet_axis(0, 3).set_xlabel('')\n",
    "\n",
    "# Legend, anchored to top right axis\n",
    "lgd = g.facet_axis(0, 1)\\\n",
    "    .legend(bbox_to_anchor=(1.1, 0.2), \n",
    "            loc='upper left', fontsize='x-large',\n",
    "            frameon=False)\n",
    "lgd.set_title('Aspiration status', prop={'size': 'xx-large'})\n",
    "\n",
    "# Remove titles\n",
    "g.set_titles('')\n",
    "#g.facet_axis(0, 1).set_xlabel('Percentage of full column reflux events', **title_kwargs)\n",
    "#g.facet_axis(0, 2).set_xlabel('Percent of time reflux was proximal', **title_kwargs)\n",
    "#g.facet_axis(0, 3).set_xlabel('Percent of time reflux was distal', **title_kwargs)\n",
    "\n",
    "# X-labels\n",
    "title_kwargs = {'fontsize': 'large'}\n",
    "g.facet_axis(0, 0).set_xlabel('Total number of reflux episodes', **title_kwargs)\n",
    "g.facet_axis(0, 1).set_xlabel('Fraction of full column reflux events', **title_kwargs)\n",
    "g.facet_axis(0, 2).set_xlabel('Percent of time reflux was proximal', **title_kwargs)\n",
    "g.facet_axis(0, 3).set_xlabel('Percent of time reflux was distal', **title_kwargs)\n",
    "\n",
    "# A, B, C, D labels\n",
    "lbls = ['A', 'B', 'C', 'D']\n",
    "for i in [0, 1, 2, 3]:\n",
    "    a = g.facet_axis(0, i)\n",
    "    a.text(-0.11, 1.125, lbls[i], transform=a.transAxes, fontsize=20)\n",
    "#txt = ax.text(-0.11, 1.025, 'A', transform=ax.transAxes, fontsize=24)\n",
    "\n",
    "plt.subplots_adjust(hspace=0.5, wspace=0.15)\n",
    "\n",
    "plt.savefig('../../final/figures/figure5.reflux_correlations.png', \n",
    "           bbox_inches='tight', #bbox_extra_artists=(lgd),\n",
    "           dpi=200)\n",
    "plt.savefig('../../final/figures/figure5.reflux_correlations.pdf', \n",
    "           bbox_inches='tight', #bbox_extra_artists=(lgd),\n",
    "           dpi=500)"
   ]
  },
  {
   "cell_type": "markdown",
   "metadata": {},
   "source": [
    "# Calculate correlations\n",
    "\n",
    "Next, we'll calculate the actual correlations for each of these reflux measures."
   ]
  },
  {
   "cell_type": "code",
   "execution_count": 21,
   "metadata": {},
   "outputs": [
    {
     "name": "stdout",
     "output_type": "stream",
     "text": [
      "('Total number of reflux episodes (acid+non-acid)', SpearmanrResult(correlation=-0.14299417611920817, pvalue=0.46790021918957314))\n",
      "('number of full colum events/total events', SpearmanrResult(correlation=-0.4081018239941703, pvalue=0.031093111623939913))\n",
      "('percent distal total', SpearmanrResult(correlation=-0.43185550082101803, pvalue=0.02174347680468858))\n",
      "('percent proximal total', SpearmanrResult(correlation=-0.47181171319102355, pvalue=0.011252594822857453))\n"
     ]
    }
   ],
   "source": [
    "from scipy.stats import spearmanr, pearsonr\n",
    "\n",
    "## Spearman correlation\n",
    "for r, subdf in toplot.groupby('reflux_type'):\n",
    "    print(r, spearmanr(subdf['reflux_value'], subdf['beta']))"
   ]
  },
  {
   "cell_type": "code",
   "execution_count": 22,
   "metadata": {},
   "outputs": [
    {
     "name": "stdout",
     "output_type": "stream",
     "text": [
      "('Total number of reflux episodes (acid+non-acid)', (-0.2506371208961543, 0.19829296614482395))\n",
      "('number of full colum events/total events', (-0.3969190725071192, 0.03649876709652478))\n",
      "('percent distal total', (-0.4482097651465254, 0.016755551799854145))\n",
      "('percent proximal total', (-0.5459453807843117, 0.002653747802547115))\n"
     ]
    }
   ],
   "source": [
    "## Pearson correlation of the log\n",
    "for r, subdf in toplot.groupby('reflux_type'):\n",
    "    print(r, pearsonr(np.log10(subdf['reflux_value']), np.log10(subdf['beta'])))"
   ]
  },
  {
   "cell_type": "markdown",
   "metadata": {},
   "source": [
    "# Patients\n",
    "\n",
    "Get the list of patients used in making this figure"
   ]
  },
  {
   "cell_type": "code",
   "execution_count": 23,
   "metadata": {},
   "outputs": [
    {
     "data": {
      "text/plain": [
       "reflux_type                                      mbs_consolidated      \n",
       "Total number of reflux episodes (acid+non-acid)  Aspiration/Penetration     5\n",
       "                                                 Normal                    13\n",
       "                                                 Not tested                10\n",
       "number of full colum events/total events         Aspiration/Penetration     5\n",
       "                                                 Normal                    13\n",
       "                                                 Not tested                10\n",
       "percent distal total                             Aspiration/Penetration     5\n",
       "                                                 Normal                    13\n",
       "                                                 Not tested                10\n",
       "percent proximal total                           Aspiration/Penetration     5\n",
       "                                                 Normal                    13\n",
       "                                                 Not tested                10\n",
       "dtype: int64"
      ]
     },
     "execution_count": 23,
     "metadata": {},
     "output_type": "execute_result"
    }
   ],
   "source": [
    "toplot.groupby(['reflux_type', 'mbs_consolidated']).size()"
   ]
  },
  {
   "cell_type": "code",
   "execution_count": 24,
   "metadata": {},
   "outputs": [
    {
     "data": {
      "text/plain": [
       "(28,)"
      ]
     },
     "execution_count": 24,
     "metadata": {},
     "output_type": "execute_result"
    }
   ],
   "source": [
    "toplot['subject'].unique().shape"
   ]
  },
  {
   "cell_type": "code",
   "execution_count": 25,
   "metadata": {},
   "outputs": [],
   "source": [
    "## A note for this file: I used bal and gastric samples from these patients\n",
    "#with open('../../final/patients/figure5.reflux_correlation.subjects.txt', 'w') as f:\n",
    "#    f.write('\\n'.join(toplot['subject'].unique()) + '\\n')"
   ]
  },
  {
   "cell_type": "code",
   "execution_count": 26,
   "metadata": {},
   "outputs": [
    {
     "name": "stdout",
     "output_type": "stream",
     "text": [
      "(224, 56)\n"
     ]
    }
   ],
   "source": [
    "samples = toplot['sample1'].tolist() + toplot['sample2'].tolist()\n",
    "print(len(samples), len(set(samples)))"
   ]
  },
  {
   "cell_type": "code",
   "execution_count": 27,
   "metadata": {},
   "outputs": [],
   "source": [
    "samples = list(set(samples))\n",
    "with open('../../data/patients/figure5.reflux_correlation.samples.txt', 'w') as f:\n",
    "    f.write('\\n'.join(samples))"
   ]
  },
  {
   "cell_type": "code",
   "execution_count": null,
   "metadata": {},
   "outputs": [],
   "source": []
  }
 ],
 "metadata": {
  "anaconda-cloud": {},
  "kernelspec": {
   "display_name": "Python [default]",
   "language": "python",
   "name": "python2"
  },
  "language_info": {
   "codemirror_mode": {
    "name": "ipython",
    "version": 2
   },
   "file_extension": ".py",
   "mimetype": "text/x-python",
   "name": "python",
   "nbconvert_exporter": "python",
   "pygments_lexer": "ipython2",
   "version": "2.7.15"
  }
 },
 "nbformat": 4,
 "nbformat_minor": 2
}
